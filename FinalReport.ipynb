{
  "nbformat": 4,
  "nbformat_minor": 0,
  "metadata": {
    "colab": {
      "provenance": [],
      "collapsed_sections": [
        "B2omK2BI4KyB",
        "ZjWMWVoA4NcV",
        "L8mRHzGc4SH0",
        "8h0G5RNzuABB",
        "aw-zON5bt0pd"
      ]
    },
    "kernelspec": {
      "name": "python3",
      "display_name": "Python 3"
    }
  },
  "cells": [
    {
      "cell_type": "markdown",
      "metadata": {
        "id": "tPdlcstH11mU"
      },
      "source": [
        "# [Campus Recruitment - 35]\n",
        "\n",
        "**Group Members:**\n",
        "\n",
        "Barış Bakırdöven 29028\n",
        "\n",
        "Ayşe Sena Acar 29506\n",
        "\n",
        "Ece Güler 29107\n",
        "\n",
        "Ada Yılmaz 29364\n",
        "\n",
        "Büşra Güler 29558\n"
      ]
    },
    {
      "cell_type": "markdown",
      "metadata": {
        "id": "B1iB4MSX3-6L"
      },
      "source": [
        "## Introduction\n",
        "\n",
        "\n",
        "\n",
        "\n",
        "\n",
        "The purpose of the study is to understand relationships between attributes of students and reveal which features lead to better placement rates in XYZ campus .\n",
        "\n",
        "**The steps included:**\n",
        "\n",
        "\n",
        "\n",
        "\n",
        "1. Clearing the data set:\n",
        "\n",
        " Converting data to different representations such as numerical value so that such data are easier to study and manipulate.Inserting new columns to the data frame to make better analysis of relationships. An example: addition of Average Grade columnd which is the average a student's secondary school, high school, university, master grades & percentages.\n",
        "\n",
        "\n",
        "\n",
        "2. Visualization and Hypothesization:\n",
        "\n",
        "  Visualizing the data by utilizing the heatmap, bar charts and box plots to show relations of features and creating hypothesis' regarding relationships and reaching logical conclusions.\n",
        "\n",
        "3. Machine Learning implementation:\n",
        "\n",
        "  Implementing Random Forest and KNN machine learning models to determine the likeliness of a student in XYZ campus to get placed, given his/her other attributes.\n"
      ]
    },
    {
      "cell_type": "markdown",
      "metadata": {
        "id": "B2omK2BI4KyB"
      },
      "source": [
        "### Problem Definition\n",
        "\n",
        "There are 4 main questions this project aims to anwer:\n",
        "\n",
        "\n",
        "1.   Which factor influenced a candidate in getting placed?\n",
        "2.   Does percentage matters for one to get placed?\n",
        "3.   Which degree specialization is much demanded by corporate?\n",
        "4.   How do different features in the database correlate with each other?\n",
        "\n",
        "\n",
        "\n",
        "\n",
        "\n",
        "To give asnwers to these questions, hypothesis' that could explain correlations are built through observation, and logical deductions are made to reach conclusions. Some of the relationships examined are Gender-Placement-work experience, Salary-Degree Average-Employment Test, High school specialization-degree average-salary, High school specialization-placement, and MBA specialization-placement. When the process of finding, visualizing and hypothesizing is over, Random Forest and KNN machine learning models are implemented to predict placement status of students with different attributes and give us the feature importance order. \n",
        "\n"
      ]
    },
    {
      "cell_type": "markdown",
      "metadata": {
        "id": "ZjWMWVoA4NcV"
      },
      "source": [
        "### Utilized Datasets\n",
        "\n",
        "\n",
        "1) Data set used in this project is the following, [Campus Recruitment](https://www.kaggle.com/datasets/benroshan/factors-affecting-campus-placement); 5 kB from Kaggle. This set containt the Placement data of students in a XYZ campus which includes data such as secondary and higher secondary school percentage and specialization of students. \n",
        "\n",
        "\n",
        "\n",
        "---\n",
        "\n",
        "\n",
        "2) Total number of observations: 9\n",
        "  \n",
        "\n",
        "\n",
        "\n",
        "1.   Salary-Degree Average-Employment Test\n",
        "\n",
        "2.   Work Experience-Gender-Status\n",
        "\n",
        "3.   High school specialization-degree average-salary\n",
        "\n",
        "1.   High school specialization-placement\n",
        "\n",
        "2.   MBA specialization-placemet\n",
        "\n",
        "1.   Ratio of High School specialization\n",
        "\n",
        "2.   Ratio of Job specialization\n",
        "\n",
        "1.   Salary-Employment Test Score\n",
        "\n",
        "2.   Degree Average-Salary\n",
        "\n",
        "\n",
        "\n",
        "\n",
        "\n",
        "\n",
        "\n",
        "\n",
        "\n",
        "\n",
        "\n",
        "\n",
        "\n",
        "---\n",
        "\n",
        "\n",
        "\n",
        "3) Data types and explanations: Data types and explanations of features in the data set \n",
        "\n",
        "A total of 15 features:\n",
        "\n",
        "\n",
        "\n",
        "**1.   sl_no:** \n",
        "\n",
        "\n",
        ">    A number assigned to each student uniquely.\n",
        "\n",
        "\n",
        "\n",
        ">    Serial Number, data type = integer \n",
        "\n",
        "\n",
        "  \n",
        "**2.   gender:** \n",
        "\n",
        ">    Data type: Categories: Male, Female\n",
        "\n",
        "\n",
        "\n",
        "\n",
        "\n",
        "\n",
        "\n",
        "\n",
        "**3.   ssc_p:** \n",
        "\n",
        "\n",
        ">    Secondary Education percentage - 10th Grade\n",
        "\n",
        "\n",
        ">    Data type: numerical value \n",
        "\n",
        "\n",
        "\n",
        "\n",
        "**4.   ssc_b:**\n",
        "\n",
        "\n",
        "\n",
        ">    Board of Education for Secondary Education - Central/ Others\n",
        "\n",
        "\n",
        ">    Data type: Categories, After conversion: \"Others\" = 0, \"Central\" = 1\n",
        "\n",
        "\n",
        "\n",
        "\n",
        "\n",
        "\n",
        "**5.   hsc_p:**\n",
        "\n",
        "\n",
        "\n",
        ">   Higher Secondary Education percentage - 12th Grade\n",
        "\n",
        "\n",
        ">   Data type: Numerical value\n",
        "\n",
        "\n",
        "\n",
        "\n",
        "\n",
        "**6.   hsc_b:**\n",
        "\n",
        ">   Board of Education for Higher Secondary Education - Central/ Others\n",
        "\n",
        "\n",
        ">   Data type: Categories, After conversion: \"Others\" = 0, \"Central\" = 1\n",
        "\n",
        "\n",
        "\n",
        "**7.   hsc_s:**\n",
        "\n",
        ">   Specialization in Higher Secondary Education\n",
        "\n",
        "\n",
        ">   Data type: Categories: Commerce, Science, Other\n",
        "\n",
        "\n",
        "\n",
        "**8.   degree_p:**\n",
        "\n",
        ">   Degree Percentage\n",
        "\n",
        "\n",
        ">   Data type: Numerical value\n",
        "\n",
        "\n",
        "\n",
        "**9.   degree_t:**\n",
        "\n",
        ">   Under Graduation(Degree type)- Field of degree education\n",
        "\n",
        "\n",
        ">   Data type: Categories: Comm&Mgmt, Sci&Tech, Other\n",
        "\n",
        "\n",
        "\n",
        "**10.   workex:**\n",
        "\n",
        ">   Work Experience\n",
        "\n",
        "\n",
        ">   Data type: Categories, After Conversion: \"No\" = 0, \"Yes\" = 1\n",
        "\n",
        "\n",
        "\n",
        "**11.   etest_p:**\n",
        "\n",
        ">   Employability test percentage ( conducted by college)\n",
        "\n",
        "\n",
        ">   Data type: Numerical value\n",
        "\n",
        "\n",
        "\n",
        "**12.   specialisation:**\n",
        "\n",
        ">   Post Graduation(MBA)- Specialization\n",
        "\n",
        "\n",
        ">   Data type: Categories: Mkt&Fin, Mkt&HR\n",
        "\n",
        "\n",
        "\n",
        "**13.   mba_p:**\n",
        "\n",
        ">   MBA percentage\n",
        "\n",
        "\n",
        ">   Data type: Numerical value\n",
        "\n",
        "\n",
        "\n",
        "**14.   status:**\n",
        "\n",
        ">   Status of placement- Placed/Not placed\n",
        "\n",
        "\n",
        ">   Data type: Categories, After Conversion: \"Not Placed\" = 0, \"Placed\" = 1\n",
        "\n",
        "\n",
        "\n",
        "**15.   salary:**\n",
        "\n",
        ">   Salary offered by corporate to candidates\n",
        "\n",
        "\n",
        ">   Data type: Numerical value\n",
        "\n",
        "\n",
        "\n",
        "\n",
        "\n",
        "\n",
        "---\n",
        "\n",
        "\n",
        "\n",
        "\n",
        "\n",
        "\n",
        "\n",
        "\n",
        "\n",
        "\n",
        "\n",
        "\n",
        "\n",
        "\n",
        "\n",
        "\n",
        "\n",
        "4) Additional Data types: Data types of features that have been added to the data set\n",
        "\n",
        "\n",
        "\n",
        "**1. degree_avg**\n",
        "\n",
        "\n",
        "\n",
        ">   Degree average of a student's ssc_p (), hsc_p (), degree_p (), mba_p ()\n",
        "\n",
        "\n",
        "\n",
        "\n",
        "**2. degree_avg_group**\n",
        "\n",
        "\n",
        "\n",
        ">   High: Degree Average >= 75\n",
        "\n",
        "\n",
        ">   Upper-mid: 75 > Degree Average >= 65\n",
        "\n",
        "\n",
        ">   Lower-mid: 65 > Degree Average >= 55\n",
        "\n",
        "\n",
        ">   Low: 55 > Degree Average\n",
        "\n",
        "\n",
        "\n",
        "\n",
        "\n",
        "\n",
        "\n",
        "\n",
        "\n",
        "\n",
        "\n",
        "---\n",
        "\n",
        "\n",
        "\n",
        "\n",
        "\n",
        "\n",
        "\n",
        "\n",
        "\n",
        "\n",
        "4) Plot figures used:\n",
        "\n",
        "\n",
        "\n",
        "*   Bar plot\n",
        "*   Heatmap\n",
        "*   Scatter plot\n",
        "*   Pie chart\n",
        "   \n",
        "\n",
        "\n",
        "\n",
        "\n",
        "\n",
        "\n",
        "\n",
        "\n",
        "---\n",
        "\n",
        "\n",
        "\n",
        "\n",
        "5) Utilized Libraries:"
      ]
    },
    {
      "cell_type": "code",
      "source": [
        "import pandas as pd\n",
        "import numpy as np\n",
        "import matplotlib.pyplot as plt\n",
        "import seaborn as sns\n",
        "from os.path import join\n",
        "%matplotlib inline\n",
        "from sklearn.tree import DecisionTreeClassifier\n",
        "from sklearn.model_selection import train_test_split\n",
        "from sklearn.metrics import accuracy_score\n",
        "from sklearn import tree\n",
        "from sklearn.ensemble import RandomForestClassifier\n",
        "from sklearn.metrics import accuracy_score\n",
        "import joblib\n",
        "from sklearn.tree import export_graphviz\n",
        "from sklearn.tree import plot_tree\n",
        "from sklearn.metrics import confusion_matrix\n",
        "from sklearn.neighbors import KNeighborsClassifier\n",
        "from mlxtend.plotting import plot_decision_regions\n",
        "from sklearn.preprocessing import StandardScaler\n",
        "from sklearn.metrics import RocCurveDisplay, PrecisionRecallDisplay, roc_curve, auc, precision_recall_curve, roc_auc_score"
      ],
      "metadata": {
        "id": "D9j-HA40YpsD"
      },
      "execution_count": null,
      "outputs": []
    },
    {
      "cell_type": "markdown",
      "metadata": {
        "id": "ict00io34o_x"
      },
      "source": [
        "## Data Exploration\n",
        "\n"
      ]
    },
    {
      "cell_type": "markdown",
      "source": [
        "#### **1) Clearing the Data:**"
      ],
      "metadata": {
        "id": "rAb6tgt4Hrmj"
      }
    },
    {
      "cell_type": "markdown",
      "source": [
        "**-**Importing Google Drive and the file consisting of our dataset, then creating a Pandas object from the file:"
      ],
      "metadata": {
        "id": "C70soYx04Vhi"
      }
    },
    {
      "cell_type": "code",
      "source": [
        "from google.colab import drive\n",
        "drive.mount(\"./drive\")"
      ],
      "metadata": {
        "id": "LRILgUp84Usy",
        "colab": {
          "base_uri": "https://localhost:8080/"
        },
        "outputId": "1efca1a9-25c2-406d-a177-f6366bf4e0fd"
      },
      "execution_count": null,
      "outputs": [
        {
          "output_type": "stream",
          "name": "stdout",
          "text": [
            "Drive already mounted at ./drive; to attempt to forcibly remount, call drive.mount(\"./drive\", force_remount=True).\n"
          ]
        }
      ]
    },
    {
      "cell_type": "code",
      "source": [
        "fname = \"Placement_Data_Full_Class.csv\"\n",
        "path_prefix = './drive/My Drive'\n",
        "df = pd.read_csv(join(path_prefix, fname))\n",
        "df.head(2)"
      ],
      "metadata": {
        "id": "iEEP0D2q4K0a",
        "colab": {
          "base_uri": "https://localhost:8080/",
          "height": 175
        },
        "outputId": "ba02b866-5279-4b2a-d671-6f21f36ed924"
      },
      "execution_count": null,
      "outputs": [
        {
          "output_type": "execute_result",
          "data": {
            "text/plain": [
              "   sl_no gender  ssc_p    ssc_b  hsc_p   hsc_b     hsc_s  degree_p  degree_t  \\\n",
              "0      1      M  67.00   Others  91.00  Others  Commerce     58.00  Sci&Tech   \n",
              "1      2      M  79.33  Central  78.33  Others   Science     77.48  Sci&Tech   \n",
              "\n",
              "  workex  etest_p specialisation  mba_p  status    salary  \n",
              "0     No     55.0         Mkt&HR  58.80  Placed  270000.0  \n",
              "1    Yes     86.5        Mkt&Fin  66.28  Placed  200000.0  "
            ],
            "text/html": [
              "\n",
              "  <div id=\"df-b7d3c996-4f62-415e-b8cf-fca610c29626\">\n",
              "    <div class=\"colab-df-container\">\n",
              "      <div>\n",
              "<style scoped>\n",
              "    .dataframe tbody tr th:only-of-type {\n",
              "        vertical-align: middle;\n",
              "    }\n",
              "\n",
              "    .dataframe tbody tr th {\n",
              "        vertical-align: top;\n",
              "    }\n",
              "\n",
              "    .dataframe thead th {\n",
              "        text-align: right;\n",
              "    }\n",
              "</style>\n",
              "<table border=\"1\" class=\"dataframe\">\n",
              "  <thead>\n",
              "    <tr style=\"text-align: right;\">\n",
              "      <th></th>\n",
              "      <th>sl_no</th>\n",
              "      <th>gender</th>\n",
              "      <th>ssc_p</th>\n",
              "      <th>ssc_b</th>\n",
              "      <th>hsc_p</th>\n",
              "      <th>hsc_b</th>\n",
              "      <th>hsc_s</th>\n",
              "      <th>degree_p</th>\n",
              "      <th>degree_t</th>\n",
              "      <th>workex</th>\n",
              "      <th>etest_p</th>\n",
              "      <th>specialisation</th>\n",
              "      <th>mba_p</th>\n",
              "      <th>status</th>\n",
              "      <th>salary</th>\n",
              "    </tr>\n",
              "  </thead>\n",
              "  <tbody>\n",
              "    <tr>\n",
              "      <th>0</th>\n",
              "      <td>1</td>\n",
              "      <td>M</td>\n",
              "      <td>67.00</td>\n",
              "      <td>Others</td>\n",
              "      <td>91.00</td>\n",
              "      <td>Others</td>\n",
              "      <td>Commerce</td>\n",
              "      <td>58.00</td>\n",
              "      <td>Sci&amp;Tech</td>\n",
              "      <td>No</td>\n",
              "      <td>55.0</td>\n",
              "      <td>Mkt&amp;HR</td>\n",
              "      <td>58.80</td>\n",
              "      <td>Placed</td>\n",
              "      <td>270000.0</td>\n",
              "    </tr>\n",
              "    <tr>\n",
              "      <th>1</th>\n",
              "      <td>2</td>\n",
              "      <td>M</td>\n",
              "      <td>79.33</td>\n",
              "      <td>Central</td>\n",
              "      <td>78.33</td>\n",
              "      <td>Others</td>\n",
              "      <td>Science</td>\n",
              "      <td>77.48</td>\n",
              "      <td>Sci&amp;Tech</td>\n",
              "      <td>Yes</td>\n",
              "      <td>86.5</td>\n",
              "      <td>Mkt&amp;Fin</td>\n",
              "      <td>66.28</td>\n",
              "      <td>Placed</td>\n",
              "      <td>200000.0</td>\n",
              "    </tr>\n",
              "  </tbody>\n",
              "</table>\n",
              "</div>\n",
              "      <button class=\"colab-df-convert\" onclick=\"convertToInteractive('df-b7d3c996-4f62-415e-b8cf-fca610c29626')\"\n",
              "              title=\"Convert this dataframe to an interactive table.\"\n",
              "              style=\"display:none;\">\n",
              "        \n",
              "  <svg xmlns=\"http://www.w3.org/2000/svg\" height=\"24px\"viewBox=\"0 0 24 24\"\n",
              "       width=\"24px\">\n",
              "    <path d=\"M0 0h24v24H0V0z\" fill=\"none\"/>\n",
              "    <path d=\"M18.56 5.44l.94 2.06.94-2.06 2.06-.94-2.06-.94-.94-2.06-.94 2.06-2.06.94zm-11 1L8.5 8.5l.94-2.06 2.06-.94-2.06-.94L8.5 2.5l-.94 2.06-2.06.94zm10 10l.94 2.06.94-2.06 2.06-.94-2.06-.94-.94-2.06-.94 2.06-2.06.94z\"/><path d=\"M17.41 7.96l-1.37-1.37c-.4-.4-.92-.59-1.43-.59-.52 0-1.04.2-1.43.59L10.3 9.45l-7.72 7.72c-.78.78-.78 2.05 0 2.83L4 21.41c.39.39.9.59 1.41.59.51 0 1.02-.2 1.41-.59l7.78-7.78 2.81-2.81c.8-.78.8-2.07 0-2.86zM5.41 20L4 18.59l7.72-7.72 1.47 1.35L5.41 20z\"/>\n",
              "  </svg>\n",
              "      </button>\n",
              "      \n",
              "  <style>\n",
              "    .colab-df-container {\n",
              "      display:flex;\n",
              "      flex-wrap:wrap;\n",
              "      gap: 12px;\n",
              "    }\n",
              "\n",
              "    .colab-df-convert {\n",
              "      background-color: #E8F0FE;\n",
              "      border: none;\n",
              "      border-radius: 50%;\n",
              "      cursor: pointer;\n",
              "      display: none;\n",
              "      fill: #1967D2;\n",
              "      height: 32px;\n",
              "      padding: 0 0 0 0;\n",
              "      width: 32px;\n",
              "    }\n",
              "\n",
              "    .colab-df-convert:hover {\n",
              "      background-color: #E2EBFA;\n",
              "      box-shadow: 0px 1px 2px rgba(60, 64, 67, 0.3), 0px 1px 3px 1px rgba(60, 64, 67, 0.15);\n",
              "      fill: #174EA6;\n",
              "    }\n",
              "\n",
              "    [theme=dark] .colab-df-convert {\n",
              "      background-color: #3B4455;\n",
              "      fill: #D2E3FC;\n",
              "    }\n",
              "\n",
              "    [theme=dark] .colab-df-convert:hover {\n",
              "      background-color: #434B5C;\n",
              "      box-shadow: 0px 1px 3px 1px rgba(0, 0, 0, 0.15);\n",
              "      filter: drop-shadow(0px 1px 2px rgba(0, 0, 0, 0.3));\n",
              "      fill: #FFFFFF;\n",
              "    }\n",
              "  </style>\n",
              "\n",
              "      <script>\n",
              "        const buttonEl =\n",
              "          document.querySelector('#df-b7d3c996-4f62-415e-b8cf-fca610c29626 button.colab-df-convert');\n",
              "        buttonEl.style.display =\n",
              "          google.colab.kernel.accessAllowed ? 'block' : 'none';\n",
              "\n",
              "        async function convertToInteractive(key) {\n",
              "          const element = document.querySelector('#df-b7d3c996-4f62-415e-b8cf-fca610c29626');\n",
              "          const dataTable =\n",
              "            await google.colab.kernel.invokeFunction('convertToInteractive',\n",
              "                                                     [key], {});\n",
              "          if (!dataTable) return;\n",
              "\n",
              "          const docLinkHtml = 'Like what you see? Visit the ' +\n",
              "            '<a target=\"_blank\" href=https://colab.research.google.com/notebooks/data_table.ipynb>data table notebook</a>'\n",
              "            + ' to learn more about interactive tables.';\n",
              "          element.innerHTML = '';\n",
              "          dataTable['output_type'] = 'display_data';\n",
              "          await google.colab.output.renderOutput(dataTable, element);\n",
              "          const docLink = document.createElement('div');\n",
              "          docLink.innerHTML = docLinkHtml;\n",
              "          element.appendChild(docLink);\n",
              "        }\n",
              "      </script>\n",
              "    </div>\n",
              "  </div>\n",
              "  "
            ]
          },
          "metadata": {},
          "execution_count": 3
        }
      ]
    },
    {
      "cell_type": "code",
      "source": [
        "df.shape"
      ],
      "metadata": {
        "colab": {
          "base_uri": "https://localhost:8080/"
        },
        "id": "KrzGMmSk_Fdm",
        "outputId": "6633031e-b811-45ac-bb99-a677d744920d"
      },
      "execution_count": null,
      "outputs": [
        {
          "output_type": "execute_result",
          "data": {
            "text/plain": [
              "(215, 15)"
            ]
          },
          "metadata": {},
          "execution_count": 4
        }
      ]
    },
    {
      "cell_type": "code",
      "source": [
        "df.describe()"
      ],
      "metadata": {
        "colab": {
          "base_uri": "https://localhost:8080/",
          "height": 297
        },
        "id": "QwSEpA8K_s6d",
        "outputId": "a40db56e-99c1-4113-d7f1-f4d4f77af5d2"
      },
      "execution_count": null,
      "outputs": [
        {
          "output_type": "execute_result",
          "data": {
            "text/plain": [
              "            sl_no       ssc_p       hsc_p    degree_p     etest_p       mba_p  \\\n",
              "count  215.000000  215.000000  215.000000  215.000000  215.000000  215.000000   \n",
              "mean   108.000000   67.303395   66.333163   66.370186   72.100558   62.278186   \n",
              "std     62.209324   10.827205   10.897509    7.358743   13.275956    5.833385   \n",
              "min      1.000000   40.890000   37.000000   50.000000   50.000000   51.210000   \n",
              "25%     54.500000   60.600000   60.900000   61.000000   60.000000   57.945000   \n",
              "50%    108.000000   67.000000   65.000000   66.000000   71.000000   62.000000   \n",
              "75%    161.500000   75.700000   73.000000   72.000000   83.500000   66.255000   \n",
              "max    215.000000   89.400000   97.700000   91.000000   98.000000   77.890000   \n",
              "\n",
              "              salary  \n",
              "count     148.000000  \n",
              "mean   288655.405405  \n",
              "std     93457.452420  \n",
              "min    200000.000000  \n",
              "25%    240000.000000  \n",
              "50%    265000.000000  \n",
              "75%    300000.000000  \n",
              "max    940000.000000  "
            ],
            "text/html": [
              "\n",
              "  <div id=\"df-770fc15f-27f2-45fd-bd82-ef795b0b4af1\">\n",
              "    <div class=\"colab-df-container\">\n",
              "      <div>\n",
              "<style scoped>\n",
              "    .dataframe tbody tr th:only-of-type {\n",
              "        vertical-align: middle;\n",
              "    }\n",
              "\n",
              "    .dataframe tbody tr th {\n",
              "        vertical-align: top;\n",
              "    }\n",
              "\n",
              "    .dataframe thead th {\n",
              "        text-align: right;\n",
              "    }\n",
              "</style>\n",
              "<table border=\"1\" class=\"dataframe\">\n",
              "  <thead>\n",
              "    <tr style=\"text-align: right;\">\n",
              "      <th></th>\n",
              "      <th>sl_no</th>\n",
              "      <th>ssc_p</th>\n",
              "      <th>hsc_p</th>\n",
              "      <th>degree_p</th>\n",
              "      <th>etest_p</th>\n",
              "      <th>mba_p</th>\n",
              "      <th>salary</th>\n",
              "    </tr>\n",
              "  </thead>\n",
              "  <tbody>\n",
              "    <tr>\n",
              "      <th>count</th>\n",
              "      <td>215.000000</td>\n",
              "      <td>215.000000</td>\n",
              "      <td>215.000000</td>\n",
              "      <td>215.000000</td>\n",
              "      <td>215.000000</td>\n",
              "      <td>215.000000</td>\n",
              "      <td>148.000000</td>\n",
              "    </tr>\n",
              "    <tr>\n",
              "      <th>mean</th>\n",
              "      <td>108.000000</td>\n",
              "      <td>67.303395</td>\n",
              "      <td>66.333163</td>\n",
              "      <td>66.370186</td>\n",
              "      <td>72.100558</td>\n",
              "      <td>62.278186</td>\n",
              "      <td>288655.405405</td>\n",
              "    </tr>\n",
              "    <tr>\n",
              "      <th>std</th>\n",
              "      <td>62.209324</td>\n",
              "      <td>10.827205</td>\n",
              "      <td>10.897509</td>\n",
              "      <td>7.358743</td>\n",
              "      <td>13.275956</td>\n",
              "      <td>5.833385</td>\n",
              "      <td>93457.452420</td>\n",
              "    </tr>\n",
              "    <tr>\n",
              "      <th>min</th>\n",
              "      <td>1.000000</td>\n",
              "      <td>40.890000</td>\n",
              "      <td>37.000000</td>\n",
              "      <td>50.000000</td>\n",
              "      <td>50.000000</td>\n",
              "      <td>51.210000</td>\n",
              "      <td>200000.000000</td>\n",
              "    </tr>\n",
              "    <tr>\n",
              "      <th>25%</th>\n",
              "      <td>54.500000</td>\n",
              "      <td>60.600000</td>\n",
              "      <td>60.900000</td>\n",
              "      <td>61.000000</td>\n",
              "      <td>60.000000</td>\n",
              "      <td>57.945000</td>\n",
              "      <td>240000.000000</td>\n",
              "    </tr>\n",
              "    <tr>\n",
              "      <th>50%</th>\n",
              "      <td>108.000000</td>\n",
              "      <td>67.000000</td>\n",
              "      <td>65.000000</td>\n",
              "      <td>66.000000</td>\n",
              "      <td>71.000000</td>\n",
              "      <td>62.000000</td>\n",
              "      <td>265000.000000</td>\n",
              "    </tr>\n",
              "    <tr>\n",
              "      <th>75%</th>\n",
              "      <td>161.500000</td>\n",
              "      <td>75.700000</td>\n",
              "      <td>73.000000</td>\n",
              "      <td>72.000000</td>\n",
              "      <td>83.500000</td>\n",
              "      <td>66.255000</td>\n",
              "      <td>300000.000000</td>\n",
              "    </tr>\n",
              "    <tr>\n",
              "      <th>max</th>\n",
              "      <td>215.000000</td>\n",
              "      <td>89.400000</td>\n",
              "      <td>97.700000</td>\n",
              "      <td>91.000000</td>\n",
              "      <td>98.000000</td>\n",
              "      <td>77.890000</td>\n",
              "      <td>940000.000000</td>\n",
              "    </tr>\n",
              "  </tbody>\n",
              "</table>\n",
              "</div>\n",
              "      <button class=\"colab-df-convert\" onclick=\"convertToInteractive('df-770fc15f-27f2-45fd-bd82-ef795b0b4af1')\"\n",
              "              title=\"Convert this dataframe to an interactive table.\"\n",
              "              style=\"display:none;\">\n",
              "        \n",
              "  <svg xmlns=\"http://www.w3.org/2000/svg\" height=\"24px\"viewBox=\"0 0 24 24\"\n",
              "       width=\"24px\">\n",
              "    <path d=\"M0 0h24v24H0V0z\" fill=\"none\"/>\n",
              "    <path d=\"M18.56 5.44l.94 2.06.94-2.06 2.06-.94-2.06-.94-.94-2.06-.94 2.06-2.06.94zm-11 1L8.5 8.5l.94-2.06 2.06-.94-2.06-.94L8.5 2.5l-.94 2.06-2.06.94zm10 10l.94 2.06.94-2.06 2.06-.94-2.06-.94-.94-2.06-.94 2.06-2.06.94z\"/><path d=\"M17.41 7.96l-1.37-1.37c-.4-.4-.92-.59-1.43-.59-.52 0-1.04.2-1.43.59L10.3 9.45l-7.72 7.72c-.78.78-.78 2.05 0 2.83L4 21.41c.39.39.9.59 1.41.59.51 0 1.02-.2 1.41-.59l7.78-7.78 2.81-2.81c.8-.78.8-2.07 0-2.86zM5.41 20L4 18.59l7.72-7.72 1.47 1.35L5.41 20z\"/>\n",
              "  </svg>\n",
              "      </button>\n",
              "      \n",
              "  <style>\n",
              "    .colab-df-container {\n",
              "      display:flex;\n",
              "      flex-wrap:wrap;\n",
              "      gap: 12px;\n",
              "    }\n",
              "\n",
              "    .colab-df-convert {\n",
              "      background-color: #E8F0FE;\n",
              "      border: none;\n",
              "      border-radius: 50%;\n",
              "      cursor: pointer;\n",
              "      display: none;\n",
              "      fill: #1967D2;\n",
              "      height: 32px;\n",
              "      padding: 0 0 0 0;\n",
              "      width: 32px;\n",
              "    }\n",
              "\n",
              "    .colab-df-convert:hover {\n",
              "      background-color: #E2EBFA;\n",
              "      box-shadow: 0px 1px 2px rgba(60, 64, 67, 0.3), 0px 1px 3px 1px rgba(60, 64, 67, 0.15);\n",
              "      fill: #174EA6;\n",
              "    }\n",
              "\n",
              "    [theme=dark] .colab-df-convert {\n",
              "      background-color: #3B4455;\n",
              "      fill: #D2E3FC;\n",
              "    }\n",
              "\n",
              "    [theme=dark] .colab-df-convert:hover {\n",
              "      background-color: #434B5C;\n",
              "      box-shadow: 0px 1px 3px 1px rgba(0, 0, 0, 0.15);\n",
              "      filter: drop-shadow(0px 1px 2px rgba(0, 0, 0, 0.3));\n",
              "      fill: #FFFFFF;\n",
              "    }\n",
              "  </style>\n",
              "\n",
              "      <script>\n",
              "        const buttonEl =\n",
              "          document.querySelector('#df-770fc15f-27f2-45fd-bd82-ef795b0b4af1 button.colab-df-convert');\n",
              "        buttonEl.style.display =\n",
              "          google.colab.kernel.accessAllowed ? 'block' : 'none';\n",
              "\n",
              "        async function convertToInteractive(key) {\n",
              "          const element = document.querySelector('#df-770fc15f-27f2-45fd-bd82-ef795b0b4af1');\n",
              "          const dataTable =\n",
              "            await google.colab.kernel.invokeFunction('convertToInteractive',\n",
              "                                                     [key], {});\n",
              "          if (!dataTable) return;\n",
              "\n",
              "          const docLinkHtml = 'Like what you see? Visit the ' +\n",
              "            '<a target=\"_blank\" href=https://colab.research.google.com/notebooks/data_table.ipynb>data table notebook</a>'\n",
              "            + ' to learn more about interactive tables.';\n",
              "          element.innerHTML = '';\n",
              "          dataTable['output_type'] = 'display_data';\n",
              "          await google.colab.output.renderOutput(dataTable, element);\n",
              "          const docLink = document.createElement('div');\n",
              "          docLink.innerHTML = docLinkHtml;\n",
              "          element.appendChild(docLink);\n",
              "        }\n",
              "      </script>\n",
              "    </div>\n",
              "  </div>\n",
              "  "
            ]
          },
          "metadata": {},
          "execution_count": 5
        }
      ]
    },
    {
      "cell_type": "code",
      "source": [
        "NA = pd.concat([df.isnull().sum()], axis = 1, keys = [\"Empty\"])\n",
        "NA[NA.sum(axis=1)>0]"
      ],
      "metadata": {
        "colab": {
          "base_uri": "https://localhost:8080/",
          "height": 80
        },
        "id": "L6UqCB2-AuxF",
        "outputId": "dcef99e1-2faf-454f-b863-5428264b9e94"
      },
      "execution_count": null,
      "outputs": [
        {
          "output_type": "execute_result",
          "data": {
            "text/plain": [
              "        Empty\n",
              "salary     67"
            ],
            "text/html": [
              "\n",
              "  <div id=\"df-f895c7db-30fe-40fc-9242-5be005f50a98\">\n",
              "    <div class=\"colab-df-container\">\n",
              "      <div>\n",
              "<style scoped>\n",
              "    .dataframe tbody tr th:only-of-type {\n",
              "        vertical-align: middle;\n",
              "    }\n",
              "\n",
              "    .dataframe tbody tr th {\n",
              "        vertical-align: top;\n",
              "    }\n",
              "\n",
              "    .dataframe thead th {\n",
              "        text-align: right;\n",
              "    }\n",
              "</style>\n",
              "<table border=\"1\" class=\"dataframe\">\n",
              "  <thead>\n",
              "    <tr style=\"text-align: right;\">\n",
              "      <th></th>\n",
              "      <th>Empty</th>\n",
              "    </tr>\n",
              "  </thead>\n",
              "  <tbody>\n",
              "    <tr>\n",
              "      <th>salary</th>\n",
              "      <td>67</td>\n",
              "    </tr>\n",
              "  </tbody>\n",
              "</table>\n",
              "</div>\n",
              "      <button class=\"colab-df-convert\" onclick=\"convertToInteractive('df-f895c7db-30fe-40fc-9242-5be005f50a98')\"\n",
              "              title=\"Convert this dataframe to an interactive table.\"\n",
              "              style=\"display:none;\">\n",
              "        \n",
              "  <svg xmlns=\"http://www.w3.org/2000/svg\" height=\"24px\"viewBox=\"0 0 24 24\"\n",
              "       width=\"24px\">\n",
              "    <path d=\"M0 0h24v24H0V0z\" fill=\"none\"/>\n",
              "    <path d=\"M18.56 5.44l.94 2.06.94-2.06 2.06-.94-2.06-.94-.94-2.06-.94 2.06-2.06.94zm-11 1L8.5 8.5l.94-2.06 2.06-.94-2.06-.94L8.5 2.5l-.94 2.06-2.06.94zm10 10l.94 2.06.94-2.06 2.06-.94-2.06-.94-.94-2.06-.94 2.06-2.06.94z\"/><path d=\"M17.41 7.96l-1.37-1.37c-.4-.4-.92-.59-1.43-.59-.52 0-1.04.2-1.43.59L10.3 9.45l-7.72 7.72c-.78.78-.78 2.05 0 2.83L4 21.41c.39.39.9.59 1.41.59.51 0 1.02-.2 1.41-.59l7.78-7.78 2.81-2.81c.8-.78.8-2.07 0-2.86zM5.41 20L4 18.59l7.72-7.72 1.47 1.35L5.41 20z\"/>\n",
              "  </svg>\n",
              "      </button>\n",
              "      \n",
              "  <style>\n",
              "    .colab-df-container {\n",
              "      display:flex;\n",
              "      flex-wrap:wrap;\n",
              "      gap: 12px;\n",
              "    }\n",
              "\n",
              "    .colab-df-convert {\n",
              "      background-color: #E8F0FE;\n",
              "      border: none;\n",
              "      border-radius: 50%;\n",
              "      cursor: pointer;\n",
              "      display: none;\n",
              "      fill: #1967D2;\n",
              "      height: 32px;\n",
              "      padding: 0 0 0 0;\n",
              "      width: 32px;\n",
              "    }\n",
              "\n",
              "    .colab-df-convert:hover {\n",
              "      background-color: #E2EBFA;\n",
              "      box-shadow: 0px 1px 2px rgba(60, 64, 67, 0.3), 0px 1px 3px 1px rgba(60, 64, 67, 0.15);\n",
              "      fill: #174EA6;\n",
              "    }\n",
              "\n",
              "    [theme=dark] .colab-df-convert {\n",
              "      background-color: #3B4455;\n",
              "      fill: #D2E3FC;\n",
              "    }\n",
              "\n",
              "    [theme=dark] .colab-df-convert:hover {\n",
              "      background-color: #434B5C;\n",
              "      box-shadow: 0px 1px 3px 1px rgba(0, 0, 0, 0.15);\n",
              "      filter: drop-shadow(0px 1px 2px rgba(0, 0, 0, 0.3));\n",
              "      fill: #FFFFFF;\n",
              "    }\n",
              "  </style>\n",
              "\n",
              "      <script>\n",
              "        const buttonEl =\n",
              "          document.querySelector('#df-f895c7db-30fe-40fc-9242-5be005f50a98 button.colab-df-convert');\n",
              "        buttonEl.style.display =\n",
              "          google.colab.kernel.accessAllowed ? 'block' : 'none';\n",
              "\n",
              "        async function convertToInteractive(key) {\n",
              "          const element = document.querySelector('#df-f895c7db-30fe-40fc-9242-5be005f50a98');\n",
              "          const dataTable =\n",
              "            await google.colab.kernel.invokeFunction('convertToInteractive',\n",
              "                                                     [key], {});\n",
              "          if (!dataTable) return;\n",
              "\n",
              "          const docLinkHtml = 'Like what you see? Visit the ' +\n",
              "            '<a target=\"_blank\" href=https://colab.research.google.com/notebooks/data_table.ipynb>data table notebook</a>'\n",
              "            + ' to learn more about interactive tables.';\n",
              "          element.innerHTML = '';\n",
              "          dataTable['output_type'] = 'display_data';\n",
              "          await google.colab.output.renderOutput(dataTable, element);\n",
              "          const docLink = document.createElement('div');\n",
              "          docLink.innerHTML = docLinkHtml;\n",
              "          element.appendChild(docLink);\n",
              "        }\n",
              "      </script>\n",
              "    </div>\n",
              "  </div>\n",
              "  "
            ]
          },
          "metadata": {},
          "execution_count": 6
        }
      ]
    },
    {
      "cell_type": "markdown",
      "source": [
        "-Turning status into numerical value:"
      ],
      "metadata": {
        "id": "Buf9RvpOKmgf"
      }
    },
    {
      "cell_type": "code",
      "source": [
        "for i in range(df.shape[0]):\n",
        "  if df['status'][i] == \"Placed\":\n",
        "    df['status'][i] = 1.00\n",
        "  elif df['status'][i] == \"Not Placed\":\n",
        "    df['status'][i] = 0.00\n",
        "df.head()"
      ],
      "metadata": {
        "colab": {
          "base_uri": "https://localhost:8080/",
          "height": 438
        },
        "id": "F4Bx1XAsKp8I",
        "outputId": "8caeb694-a4a3-4b29-d653-434929cfd26f"
      },
      "execution_count": null,
      "outputs": [
        {
          "output_type": "stream",
          "name": "stderr",
          "text": [
            "<ipython-input-7-1152f30ad8d7>:3: SettingWithCopyWarning: \n",
            "A value is trying to be set on a copy of a slice from a DataFrame\n",
            "\n",
            "See the caveats in the documentation: https://pandas.pydata.org/pandas-docs/stable/user_guide/indexing.html#returning-a-view-versus-a-copy\n",
            "  df['status'][i] = 1.00\n",
            "<ipython-input-7-1152f30ad8d7>:5: SettingWithCopyWarning: \n",
            "A value is trying to be set on a copy of a slice from a DataFrame\n",
            "\n",
            "See the caveats in the documentation: https://pandas.pydata.org/pandas-docs/stable/user_guide/indexing.html#returning-a-view-versus-a-copy\n",
            "  df['status'][i] = 0.00\n"
          ]
        },
        {
          "output_type": "execute_result",
          "data": {
            "text/plain": [
              "   sl_no gender  ssc_p    ssc_b  hsc_p    hsc_b     hsc_s  degree_p  \\\n",
              "0      1      M  67.00   Others  91.00   Others  Commerce     58.00   \n",
              "1      2      M  79.33  Central  78.33   Others   Science     77.48   \n",
              "2      3      M  65.00  Central  68.00  Central      Arts     64.00   \n",
              "3      4      M  56.00  Central  52.00  Central   Science     52.00   \n",
              "4      5      M  85.80  Central  73.60  Central  Commerce     73.30   \n",
              "\n",
              "    degree_t workex  etest_p specialisation  mba_p status    salary  \n",
              "0   Sci&Tech     No     55.0         Mkt&HR  58.80    1.0  270000.0  \n",
              "1   Sci&Tech    Yes     86.5        Mkt&Fin  66.28    1.0  200000.0  \n",
              "2  Comm&Mgmt     No     75.0        Mkt&Fin  57.80    1.0  250000.0  \n",
              "3   Sci&Tech     No     66.0         Mkt&HR  59.43    0.0       NaN  \n",
              "4  Comm&Mgmt     No     96.8        Mkt&Fin  55.50    1.0  425000.0  "
            ],
            "text/html": [
              "\n",
              "  <div id=\"df-dc0f8014-1a09-48f5-a5d9-f2766ed656a5\">\n",
              "    <div class=\"colab-df-container\">\n",
              "      <div>\n",
              "<style scoped>\n",
              "    .dataframe tbody tr th:only-of-type {\n",
              "        vertical-align: middle;\n",
              "    }\n",
              "\n",
              "    .dataframe tbody tr th {\n",
              "        vertical-align: top;\n",
              "    }\n",
              "\n",
              "    .dataframe thead th {\n",
              "        text-align: right;\n",
              "    }\n",
              "</style>\n",
              "<table border=\"1\" class=\"dataframe\">\n",
              "  <thead>\n",
              "    <tr style=\"text-align: right;\">\n",
              "      <th></th>\n",
              "      <th>sl_no</th>\n",
              "      <th>gender</th>\n",
              "      <th>ssc_p</th>\n",
              "      <th>ssc_b</th>\n",
              "      <th>hsc_p</th>\n",
              "      <th>hsc_b</th>\n",
              "      <th>hsc_s</th>\n",
              "      <th>degree_p</th>\n",
              "      <th>degree_t</th>\n",
              "      <th>workex</th>\n",
              "      <th>etest_p</th>\n",
              "      <th>specialisation</th>\n",
              "      <th>mba_p</th>\n",
              "      <th>status</th>\n",
              "      <th>salary</th>\n",
              "    </tr>\n",
              "  </thead>\n",
              "  <tbody>\n",
              "    <tr>\n",
              "      <th>0</th>\n",
              "      <td>1</td>\n",
              "      <td>M</td>\n",
              "      <td>67.00</td>\n",
              "      <td>Others</td>\n",
              "      <td>91.00</td>\n",
              "      <td>Others</td>\n",
              "      <td>Commerce</td>\n",
              "      <td>58.00</td>\n",
              "      <td>Sci&amp;Tech</td>\n",
              "      <td>No</td>\n",
              "      <td>55.0</td>\n",
              "      <td>Mkt&amp;HR</td>\n",
              "      <td>58.80</td>\n",
              "      <td>1.0</td>\n",
              "      <td>270000.0</td>\n",
              "    </tr>\n",
              "    <tr>\n",
              "      <th>1</th>\n",
              "      <td>2</td>\n",
              "      <td>M</td>\n",
              "      <td>79.33</td>\n",
              "      <td>Central</td>\n",
              "      <td>78.33</td>\n",
              "      <td>Others</td>\n",
              "      <td>Science</td>\n",
              "      <td>77.48</td>\n",
              "      <td>Sci&amp;Tech</td>\n",
              "      <td>Yes</td>\n",
              "      <td>86.5</td>\n",
              "      <td>Mkt&amp;Fin</td>\n",
              "      <td>66.28</td>\n",
              "      <td>1.0</td>\n",
              "      <td>200000.0</td>\n",
              "    </tr>\n",
              "    <tr>\n",
              "      <th>2</th>\n",
              "      <td>3</td>\n",
              "      <td>M</td>\n",
              "      <td>65.00</td>\n",
              "      <td>Central</td>\n",
              "      <td>68.00</td>\n",
              "      <td>Central</td>\n",
              "      <td>Arts</td>\n",
              "      <td>64.00</td>\n",
              "      <td>Comm&amp;Mgmt</td>\n",
              "      <td>No</td>\n",
              "      <td>75.0</td>\n",
              "      <td>Mkt&amp;Fin</td>\n",
              "      <td>57.80</td>\n",
              "      <td>1.0</td>\n",
              "      <td>250000.0</td>\n",
              "    </tr>\n",
              "    <tr>\n",
              "      <th>3</th>\n",
              "      <td>4</td>\n",
              "      <td>M</td>\n",
              "      <td>56.00</td>\n",
              "      <td>Central</td>\n",
              "      <td>52.00</td>\n",
              "      <td>Central</td>\n",
              "      <td>Science</td>\n",
              "      <td>52.00</td>\n",
              "      <td>Sci&amp;Tech</td>\n",
              "      <td>No</td>\n",
              "      <td>66.0</td>\n",
              "      <td>Mkt&amp;HR</td>\n",
              "      <td>59.43</td>\n",
              "      <td>0.0</td>\n",
              "      <td>NaN</td>\n",
              "    </tr>\n",
              "    <tr>\n",
              "      <th>4</th>\n",
              "      <td>5</td>\n",
              "      <td>M</td>\n",
              "      <td>85.80</td>\n",
              "      <td>Central</td>\n",
              "      <td>73.60</td>\n",
              "      <td>Central</td>\n",
              "      <td>Commerce</td>\n",
              "      <td>73.30</td>\n",
              "      <td>Comm&amp;Mgmt</td>\n",
              "      <td>No</td>\n",
              "      <td>96.8</td>\n",
              "      <td>Mkt&amp;Fin</td>\n",
              "      <td>55.50</td>\n",
              "      <td>1.0</td>\n",
              "      <td>425000.0</td>\n",
              "    </tr>\n",
              "  </tbody>\n",
              "</table>\n",
              "</div>\n",
              "      <button class=\"colab-df-convert\" onclick=\"convertToInteractive('df-dc0f8014-1a09-48f5-a5d9-f2766ed656a5')\"\n",
              "              title=\"Convert this dataframe to an interactive table.\"\n",
              "              style=\"display:none;\">\n",
              "        \n",
              "  <svg xmlns=\"http://www.w3.org/2000/svg\" height=\"24px\"viewBox=\"0 0 24 24\"\n",
              "       width=\"24px\">\n",
              "    <path d=\"M0 0h24v24H0V0z\" fill=\"none\"/>\n",
              "    <path d=\"M18.56 5.44l.94 2.06.94-2.06 2.06-.94-2.06-.94-.94-2.06-.94 2.06-2.06.94zm-11 1L8.5 8.5l.94-2.06 2.06-.94-2.06-.94L8.5 2.5l-.94 2.06-2.06.94zm10 10l.94 2.06.94-2.06 2.06-.94-2.06-.94-.94-2.06-.94 2.06-2.06.94z\"/><path d=\"M17.41 7.96l-1.37-1.37c-.4-.4-.92-.59-1.43-.59-.52 0-1.04.2-1.43.59L10.3 9.45l-7.72 7.72c-.78.78-.78 2.05 0 2.83L4 21.41c.39.39.9.59 1.41.59.51 0 1.02-.2 1.41-.59l7.78-7.78 2.81-2.81c.8-.78.8-2.07 0-2.86zM5.41 20L4 18.59l7.72-7.72 1.47 1.35L5.41 20z\"/>\n",
              "  </svg>\n",
              "      </button>\n",
              "      \n",
              "  <style>\n",
              "    .colab-df-container {\n",
              "      display:flex;\n",
              "      flex-wrap:wrap;\n",
              "      gap: 12px;\n",
              "    }\n",
              "\n",
              "    .colab-df-convert {\n",
              "      background-color: #E8F0FE;\n",
              "      border: none;\n",
              "      border-radius: 50%;\n",
              "      cursor: pointer;\n",
              "      display: none;\n",
              "      fill: #1967D2;\n",
              "      height: 32px;\n",
              "      padding: 0 0 0 0;\n",
              "      width: 32px;\n",
              "    }\n",
              "\n",
              "    .colab-df-convert:hover {\n",
              "      background-color: #E2EBFA;\n",
              "      box-shadow: 0px 1px 2px rgba(60, 64, 67, 0.3), 0px 1px 3px 1px rgba(60, 64, 67, 0.15);\n",
              "      fill: #174EA6;\n",
              "    }\n",
              "\n",
              "    [theme=dark] .colab-df-convert {\n",
              "      background-color: #3B4455;\n",
              "      fill: #D2E3FC;\n",
              "    }\n",
              "\n",
              "    [theme=dark] .colab-df-convert:hover {\n",
              "      background-color: #434B5C;\n",
              "      box-shadow: 0px 1px 3px 1px rgba(0, 0, 0, 0.15);\n",
              "      filter: drop-shadow(0px 1px 2px rgba(0, 0, 0, 0.3));\n",
              "      fill: #FFFFFF;\n",
              "    }\n",
              "  </style>\n",
              "\n",
              "      <script>\n",
              "        const buttonEl =\n",
              "          document.querySelector('#df-dc0f8014-1a09-48f5-a5d9-f2766ed656a5 button.colab-df-convert');\n",
              "        buttonEl.style.display =\n",
              "          google.colab.kernel.accessAllowed ? 'block' : 'none';\n",
              "\n",
              "        async function convertToInteractive(key) {\n",
              "          const element = document.querySelector('#df-dc0f8014-1a09-48f5-a5d9-f2766ed656a5');\n",
              "          const dataTable =\n",
              "            await google.colab.kernel.invokeFunction('convertToInteractive',\n",
              "                                                     [key], {});\n",
              "          if (!dataTable) return;\n",
              "\n",
              "          const docLinkHtml = 'Like what you see? Visit the ' +\n",
              "            '<a target=\"_blank\" href=https://colab.research.google.com/notebooks/data_table.ipynb>data table notebook</a>'\n",
              "            + ' to learn more about interactive tables.';\n",
              "          element.innerHTML = '';\n",
              "          dataTable['output_type'] = 'display_data';\n",
              "          await google.colab.output.renderOutput(dataTable, element);\n",
              "          const docLink = document.createElement('div');\n",
              "          docLink.innerHTML = docLinkHtml;\n",
              "          element.appendChild(docLink);\n",
              "        }\n",
              "      </script>\n",
              "    </div>\n",
              "  </div>\n",
              "  "
            ]
          },
          "metadata": {},
          "execution_count": 7
        }
      ]
    },
    {
      "cell_type": "markdown",
      "source": [
        "-Since most empty lines occur in salary column, and our main goal is to decide on placement chances of a student, we create a dataframe without salary(df_ws) we will use in implementation of machine learning models, as the existing of empty rows hurt the accuracy of our models.\n",
        "\n",
        "-Note that df (our original dataframe) will continue to exist and any changes made on df_ws (except dummy convertion) from now on will be also done on df, which will be used for visualization."
      ],
      "metadata": {
        "id": "izKv6EFrGi6A"
      }
    },
    {
      "cell_type": "code",
      "source": [
        "df_ws = df.drop([\"salary\"],axis = 1)\n",
        "df_ws.head()"
      ],
      "metadata": {
        "colab": {
          "base_uri": "https://localhost:8080/",
          "height": 268
        },
        "id": "Rc3QwfPgBnrW",
        "outputId": "ba1e7409-bf9b-4ec3-c30d-a43c1818ae67"
      },
      "execution_count": null,
      "outputs": [
        {
          "output_type": "execute_result",
          "data": {
            "text/plain": [
              "   sl_no gender  ssc_p    ssc_b  hsc_p    hsc_b     hsc_s  degree_p  \\\n",
              "0      1      M  67.00   Others  91.00   Others  Commerce     58.00   \n",
              "1      2      M  79.33  Central  78.33   Others   Science     77.48   \n",
              "2      3      M  65.00  Central  68.00  Central      Arts     64.00   \n",
              "3      4      M  56.00  Central  52.00  Central   Science     52.00   \n",
              "4      5      M  85.80  Central  73.60  Central  Commerce     73.30   \n",
              "\n",
              "    degree_t workex  etest_p specialisation  mba_p status  \n",
              "0   Sci&Tech     No     55.0         Mkt&HR  58.80    1.0  \n",
              "1   Sci&Tech    Yes     86.5        Mkt&Fin  66.28    1.0  \n",
              "2  Comm&Mgmt     No     75.0        Mkt&Fin  57.80    1.0  \n",
              "3   Sci&Tech     No     66.0         Mkt&HR  59.43    0.0  \n",
              "4  Comm&Mgmt     No     96.8        Mkt&Fin  55.50    1.0  "
            ],
            "text/html": [
              "\n",
              "  <div id=\"df-625b72dc-6954-48c0-bd2f-c14a1b0ebcb4\">\n",
              "    <div class=\"colab-df-container\">\n",
              "      <div>\n",
              "<style scoped>\n",
              "    .dataframe tbody tr th:only-of-type {\n",
              "        vertical-align: middle;\n",
              "    }\n",
              "\n",
              "    .dataframe tbody tr th {\n",
              "        vertical-align: top;\n",
              "    }\n",
              "\n",
              "    .dataframe thead th {\n",
              "        text-align: right;\n",
              "    }\n",
              "</style>\n",
              "<table border=\"1\" class=\"dataframe\">\n",
              "  <thead>\n",
              "    <tr style=\"text-align: right;\">\n",
              "      <th></th>\n",
              "      <th>sl_no</th>\n",
              "      <th>gender</th>\n",
              "      <th>ssc_p</th>\n",
              "      <th>ssc_b</th>\n",
              "      <th>hsc_p</th>\n",
              "      <th>hsc_b</th>\n",
              "      <th>hsc_s</th>\n",
              "      <th>degree_p</th>\n",
              "      <th>degree_t</th>\n",
              "      <th>workex</th>\n",
              "      <th>etest_p</th>\n",
              "      <th>specialisation</th>\n",
              "      <th>mba_p</th>\n",
              "      <th>status</th>\n",
              "    </tr>\n",
              "  </thead>\n",
              "  <tbody>\n",
              "    <tr>\n",
              "      <th>0</th>\n",
              "      <td>1</td>\n",
              "      <td>M</td>\n",
              "      <td>67.00</td>\n",
              "      <td>Others</td>\n",
              "      <td>91.00</td>\n",
              "      <td>Others</td>\n",
              "      <td>Commerce</td>\n",
              "      <td>58.00</td>\n",
              "      <td>Sci&amp;Tech</td>\n",
              "      <td>No</td>\n",
              "      <td>55.0</td>\n",
              "      <td>Mkt&amp;HR</td>\n",
              "      <td>58.80</td>\n",
              "      <td>1.0</td>\n",
              "    </tr>\n",
              "    <tr>\n",
              "      <th>1</th>\n",
              "      <td>2</td>\n",
              "      <td>M</td>\n",
              "      <td>79.33</td>\n",
              "      <td>Central</td>\n",
              "      <td>78.33</td>\n",
              "      <td>Others</td>\n",
              "      <td>Science</td>\n",
              "      <td>77.48</td>\n",
              "      <td>Sci&amp;Tech</td>\n",
              "      <td>Yes</td>\n",
              "      <td>86.5</td>\n",
              "      <td>Mkt&amp;Fin</td>\n",
              "      <td>66.28</td>\n",
              "      <td>1.0</td>\n",
              "    </tr>\n",
              "    <tr>\n",
              "      <th>2</th>\n",
              "      <td>3</td>\n",
              "      <td>M</td>\n",
              "      <td>65.00</td>\n",
              "      <td>Central</td>\n",
              "      <td>68.00</td>\n",
              "      <td>Central</td>\n",
              "      <td>Arts</td>\n",
              "      <td>64.00</td>\n",
              "      <td>Comm&amp;Mgmt</td>\n",
              "      <td>No</td>\n",
              "      <td>75.0</td>\n",
              "      <td>Mkt&amp;Fin</td>\n",
              "      <td>57.80</td>\n",
              "      <td>1.0</td>\n",
              "    </tr>\n",
              "    <tr>\n",
              "      <th>3</th>\n",
              "      <td>4</td>\n",
              "      <td>M</td>\n",
              "      <td>56.00</td>\n",
              "      <td>Central</td>\n",
              "      <td>52.00</td>\n",
              "      <td>Central</td>\n",
              "      <td>Science</td>\n",
              "      <td>52.00</td>\n",
              "      <td>Sci&amp;Tech</td>\n",
              "      <td>No</td>\n",
              "      <td>66.0</td>\n",
              "      <td>Mkt&amp;HR</td>\n",
              "      <td>59.43</td>\n",
              "      <td>0.0</td>\n",
              "    </tr>\n",
              "    <tr>\n",
              "      <th>4</th>\n",
              "      <td>5</td>\n",
              "      <td>M</td>\n",
              "      <td>85.80</td>\n",
              "      <td>Central</td>\n",
              "      <td>73.60</td>\n",
              "      <td>Central</td>\n",
              "      <td>Commerce</td>\n",
              "      <td>73.30</td>\n",
              "      <td>Comm&amp;Mgmt</td>\n",
              "      <td>No</td>\n",
              "      <td>96.8</td>\n",
              "      <td>Mkt&amp;Fin</td>\n",
              "      <td>55.50</td>\n",
              "      <td>1.0</td>\n",
              "    </tr>\n",
              "  </tbody>\n",
              "</table>\n",
              "</div>\n",
              "      <button class=\"colab-df-convert\" onclick=\"convertToInteractive('df-625b72dc-6954-48c0-bd2f-c14a1b0ebcb4')\"\n",
              "              title=\"Convert this dataframe to an interactive table.\"\n",
              "              style=\"display:none;\">\n",
              "        \n",
              "  <svg xmlns=\"http://www.w3.org/2000/svg\" height=\"24px\"viewBox=\"0 0 24 24\"\n",
              "       width=\"24px\">\n",
              "    <path d=\"M0 0h24v24H0V0z\" fill=\"none\"/>\n",
              "    <path d=\"M18.56 5.44l.94 2.06.94-2.06 2.06-.94-2.06-.94-.94-2.06-.94 2.06-2.06.94zm-11 1L8.5 8.5l.94-2.06 2.06-.94-2.06-.94L8.5 2.5l-.94 2.06-2.06.94zm10 10l.94 2.06.94-2.06 2.06-.94-2.06-.94-.94-2.06-.94 2.06-2.06.94z\"/><path d=\"M17.41 7.96l-1.37-1.37c-.4-.4-.92-.59-1.43-.59-.52 0-1.04.2-1.43.59L10.3 9.45l-7.72 7.72c-.78.78-.78 2.05 0 2.83L4 21.41c.39.39.9.59 1.41.59.51 0 1.02-.2 1.41-.59l7.78-7.78 2.81-2.81c.8-.78.8-2.07 0-2.86zM5.41 20L4 18.59l7.72-7.72 1.47 1.35L5.41 20z\"/>\n",
              "  </svg>\n",
              "      </button>\n",
              "      \n",
              "  <style>\n",
              "    .colab-df-container {\n",
              "      display:flex;\n",
              "      flex-wrap:wrap;\n",
              "      gap: 12px;\n",
              "    }\n",
              "\n",
              "    .colab-df-convert {\n",
              "      background-color: #E8F0FE;\n",
              "      border: none;\n",
              "      border-radius: 50%;\n",
              "      cursor: pointer;\n",
              "      display: none;\n",
              "      fill: #1967D2;\n",
              "      height: 32px;\n",
              "      padding: 0 0 0 0;\n",
              "      width: 32px;\n",
              "    }\n",
              "\n",
              "    .colab-df-convert:hover {\n",
              "      background-color: #E2EBFA;\n",
              "      box-shadow: 0px 1px 2px rgba(60, 64, 67, 0.3), 0px 1px 3px 1px rgba(60, 64, 67, 0.15);\n",
              "      fill: #174EA6;\n",
              "    }\n",
              "\n",
              "    [theme=dark] .colab-df-convert {\n",
              "      background-color: #3B4455;\n",
              "      fill: #D2E3FC;\n",
              "    }\n",
              "\n",
              "    [theme=dark] .colab-df-convert:hover {\n",
              "      background-color: #434B5C;\n",
              "      box-shadow: 0px 1px 3px 1px rgba(0, 0, 0, 0.15);\n",
              "      filter: drop-shadow(0px 1px 2px rgba(0, 0, 0, 0.3));\n",
              "      fill: #FFFFFF;\n",
              "    }\n",
              "  </style>\n",
              "\n",
              "      <script>\n",
              "        const buttonEl =\n",
              "          document.querySelector('#df-625b72dc-6954-48c0-bd2f-c14a1b0ebcb4 button.colab-df-convert');\n",
              "        buttonEl.style.display =\n",
              "          google.colab.kernel.accessAllowed ? 'block' : 'none';\n",
              "\n",
              "        async function convertToInteractive(key) {\n",
              "          const element = document.querySelector('#df-625b72dc-6954-48c0-bd2f-c14a1b0ebcb4');\n",
              "          const dataTable =\n",
              "            await google.colab.kernel.invokeFunction('convertToInteractive',\n",
              "                                                     [key], {});\n",
              "          if (!dataTable) return;\n",
              "\n",
              "          const docLinkHtml = 'Like what you see? Visit the ' +\n",
              "            '<a target=\"_blank\" href=https://colab.research.google.com/notebooks/data_table.ipynb>data table notebook</a>'\n",
              "            + ' to learn more about interactive tables.';\n",
              "          element.innerHTML = '';\n",
              "          dataTable['output_type'] = 'display_data';\n",
              "          await google.colab.output.renderOutput(dataTable, element);\n",
              "          const docLink = document.createElement('div');\n",
              "          docLink.innerHTML = docLinkHtml;\n",
              "          element.appendChild(docLink);\n",
              "        }\n",
              "      </script>\n",
              "    </div>\n",
              "  </div>\n",
              "  "
            ]
          },
          "metadata": {},
          "execution_count": 8
        }
      ]
    },
    {
      "cell_type": "markdown",
      "source": [
        "---\n",
        "**-**Making non-numeric values into numeric values (only for df_ws):"
      ],
      "metadata": {
        "id": "T5y_9Va1755T"
      }
    },
    {
      "cell_type": "code",
      "source": [
        "for col in df_ws.dtypes[df_ws.dtypes == \"object\"].index:\n",
        "  if(col != \"status\"):\n",
        "    fd = df_ws.pop(col)\n",
        "    df_ws = pd.concat([df_ws, pd.get_dummies(fd, prefix = col)], axis = 1)\n",
        "\n",
        "df_ws.head()"
      ],
      "metadata": {
        "colab": {
          "base_uri": "https://localhost:8080/",
          "height": 297
        },
        "id": "bDIlQEfoCDH-",
        "outputId": "15b70cba-24ad-4c2d-d903-57012f42309d"
      },
      "execution_count": null,
      "outputs": [
        {
          "output_type": "execute_result",
          "data": {
            "text/plain": [
              "   sl_no  ssc_p  hsc_p  degree_p  etest_p  mba_p status  gender_F  gender_M  \\\n",
              "0      1  67.00  91.00     58.00     55.0  58.80    1.0         0         1   \n",
              "1      2  79.33  78.33     77.48     86.5  66.28    1.0         0         1   \n",
              "2      3  65.00  68.00     64.00     75.0  57.80    1.0         0         1   \n",
              "3      4  56.00  52.00     52.00     66.0  59.43    0.0         0         1   \n",
              "4      5  85.80  73.60     73.30     96.8  55.50    1.0         0         1   \n",
              "\n",
              "   ssc_b_Central  ...  hsc_s_Arts  hsc_s_Commerce  hsc_s_Science  \\\n",
              "0              0  ...           0               1              0   \n",
              "1              1  ...           0               0              1   \n",
              "2              1  ...           1               0              0   \n",
              "3              1  ...           0               0              1   \n",
              "4              1  ...           0               1              0   \n",
              "\n",
              "   degree_t_Comm&Mgmt  degree_t_Others  degree_t_Sci&Tech  workex_No  \\\n",
              "0                   0                0                  1          1   \n",
              "1                   0                0                  1          0   \n",
              "2                   1                0                  0          1   \n",
              "3                   0                0                  1          1   \n",
              "4                   1                0                  0          1   \n",
              "\n",
              "   workex_Yes  specialisation_Mkt&Fin  specialisation_Mkt&HR  \n",
              "0           0                       0                      1  \n",
              "1           1                       1                      0  \n",
              "2           0                       1                      0  \n",
              "3           0                       0                      1  \n",
              "4           0                       1                      0  \n",
              "\n",
              "[5 rows x 23 columns]"
            ],
            "text/html": [
              "\n",
              "  <div id=\"df-ff6a57a8-b536-4767-9052-e30b5d9b976a\">\n",
              "    <div class=\"colab-df-container\">\n",
              "      <div>\n",
              "<style scoped>\n",
              "    .dataframe tbody tr th:only-of-type {\n",
              "        vertical-align: middle;\n",
              "    }\n",
              "\n",
              "    .dataframe tbody tr th {\n",
              "        vertical-align: top;\n",
              "    }\n",
              "\n",
              "    .dataframe thead th {\n",
              "        text-align: right;\n",
              "    }\n",
              "</style>\n",
              "<table border=\"1\" class=\"dataframe\">\n",
              "  <thead>\n",
              "    <tr style=\"text-align: right;\">\n",
              "      <th></th>\n",
              "      <th>sl_no</th>\n",
              "      <th>ssc_p</th>\n",
              "      <th>hsc_p</th>\n",
              "      <th>degree_p</th>\n",
              "      <th>etest_p</th>\n",
              "      <th>mba_p</th>\n",
              "      <th>status</th>\n",
              "      <th>gender_F</th>\n",
              "      <th>gender_M</th>\n",
              "      <th>ssc_b_Central</th>\n",
              "      <th>...</th>\n",
              "      <th>hsc_s_Arts</th>\n",
              "      <th>hsc_s_Commerce</th>\n",
              "      <th>hsc_s_Science</th>\n",
              "      <th>degree_t_Comm&amp;Mgmt</th>\n",
              "      <th>degree_t_Others</th>\n",
              "      <th>degree_t_Sci&amp;Tech</th>\n",
              "      <th>workex_No</th>\n",
              "      <th>workex_Yes</th>\n",
              "      <th>specialisation_Mkt&amp;Fin</th>\n",
              "      <th>specialisation_Mkt&amp;HR</th>\n",
              "    </tr>\n",
              "  </thead>\n",
              "  <tbody>\n",
              "    <tr>\n",
              "      <th>0</th>\n",
              "      <td>1</td>\n",
              "      <td>67.00</td>\n",
              "      <td>91.00</td>\n",
              "      <td>58.00</td>\n",
              "      <td>55.0</td>\n",
              "      <td>58.80</td>\n",
              "      <td>1.0</td>\n",
              "      <td>0</td>\n",
              "      <td>1</td>\n",
              "      <td>0</td>\n",
              "      <td>...</td>\n",
              "      <td>0</td>\n",
              "      <td>1</td>\n",
              "      <td>0</td>\n",
              "      <td>0</td>\n",
              "      <td>0</td>\n",
              "      <td>1</td>\n",
              "      <td>1</td>\n",
              "      <td>0</td>\n",
              "      <td>0</td>\n",
              "      <td>1</td>\n",
              "    </tr>\n",
              "    <tr>\n",
              "      <th>1</th>\n",
              "      <td>2</td>\n",
              "      <td>79.33</td>\n",
              "      <td>78.33</td>\n",
              "      <td>77.48</td>\n",
              "      <td>86.5</td>\n",
              "      <td>66.28</td>\n",
              "      <td>1.0</td>\n",
              "      <td>0</td>\n",
              "      <td>1</td>\n",
              "      <td>1</td>\n",
              "      <td>...</td>\n",
              "      <td>0</td>\n",
              "      <td>0</td>\n",
              "      <td>1</td>\n",
              "      <td>0</td>\n",
              "      <td>0</td>\n",
              "      <td>1</td>\n",
              "      <td>0</td>\n",
              "      <td>1</td>\n",
              "      <td>1</td>\n",
              "      <td>0</td>\n",
              "    </tr>\n",
              "    <tr>\n",
              "      <th>2</th>\n",
              "      <td>3</td>\n",
              "      <td>65.00</td>\n",
              "      <td>68.00</td>\n",
              "      <td>64.00</td>\n",
              "      <td>75.0</td>\n",
              "      <td>57.80</td>\n",
              "      <td>1.0</td>\n",
              "      <td>0</td>\n",
              "      <td>1</td>\n",
              "      <td>1</td>\n",
              "      <td>...</td>\n",
              "      <td>1</td>\n",
              "      <td>0</td>\n",
              "      <td>0</td>\n",
              "      <td>1</td>\n",
              "      <td>0</td>\n",
              "      <td>0</td>\n",
              "      <td>1</td>\n",
              "      <td>0</td>\n",
              "      <td>1</td>\n",
              "      <td>0</td>\n",
              "    </tr>\n",
              "    <tr>\n",
              "      <th>3</th>\n",
              "      <td>4</td>\n",
              "      <td>56.00</td>\n",
              "      <td>52.00</td>\n",
              "      <td>52.00</td>\n",
              "      <td>66.0</td>\n",
              "      <td>59.43</td>\n",
              "      <td>0.0</td>\n",
              "      <td>0</td>\n",
              "      <td>1</td>\n",
              "      <td>1</td>\n",
              "      <td>...</td>\n",
              "      <td>0</td>\n",
              "      <td>0</td>\n",
              "      <td>1</td>\n",
              "      <td>0</td>\n",
              "      <td>0</td>\n",
              "      <td>1</td>\n",
              "      <td>1</td>\n",
              "      <td>0</td>\n",
              "      <td>0</td>\n",
              "      <td>1</td>\n",
              "    </tr>\n",
              "    <tr>\n",
              "      <th>4</th>\n",
              "      <td>5</td>\n",
              "      <td>85.80</td>\n",
              "      <td>73.60</td>\n",
              "      <td>73.30</td>\n",
              "      <td>96.8</td>\n",
              "      <td>55.50</td>\n",
              "      <td>1.0</td>\n",
              "      <td>0</td>\n",
              "      <td>1</td>\n",
              "      <td>1</td>\n",
              "      <td>...</td>\n",
              "      <td>0</td>\n",
              "      <td>1</td>\n",
              "      <td>0</td>\n",
              "      <td>1</td>\n",
              "      <td>0</td>\n",
              "      <td>0</td>\n",
              "      <td>1</td>\n",
              "      <td>0</td>\n",
              "      <td>1</td>\n",
              "      <td>0</td>\n",
              "    </tr>\n",
              "  </tbody>\n",
              "</table>\n",
              "<p>5 rows × 23 columns</p>\n",
              "</div>\n",
              "      <button class=\"colab-df-convert\" onclick=\"convertToInteractive('df-ff6a57a8-b536-4767-9052-e30b5d9b976a')\"\n",
              "              title=\"Convert this dataframe to an interactive table.\"\n",
              "              style=\"display:none;\">\n",
              "        \n",
              "  <svg xmlns=\"http://www.w3.org/2000/svg\" height=\"24px\"viewBox=\"0 0 24 24\"\n",
              "       width=\"24px\">\n",
              "    <path d=\"M0 0h24v24H0V0z\" fill=\"none\"/>\n",
              "    <path d=\"M18.56 5.44l.94 2.06.94-2.06 2.06-.94-2.06-.94-.94-2.06-.94 2.06-2.06.94zm-11 1L8.5 8.5l.94-2.06 2.06-.94-2.06-.94L8.5 2.5l-.94 2.06-2.06.94zm10 10l.94 2.06.94-2.06 2.06-.94-2.06-.94-.94-2.06-.94 2.06-2.06.94z\"/><path d=\"M17.41 7.96l-1.37-1.37c-.4-.4-.92-.59-1.43-.59-.52 0-1.04.2-1.43.59L10.3 9.45l-7.72 7.72c-.78.78-.78 2.05 0 2.83L4 21.41c.39.39.9.59 1.41.59.51 0 1.02-.2 1.41-.59l7.78-7.78 2.81-2.81c.8-.78.8-2.07 0-2.86zM5.41 20L4 18.59l7.72-7.72 1.47 1.35L5.41 20z\"/>\n",
              "  </svg>\n",
              "      </button>\n",
              "      \n",
              "  <style>\n",
              "    .colab-df-container {\n",
              "      display:flex;\n",
              "      flex-wrap:wrap;\n",
              "      gap: 12px;\n",
              "    }\n",
              "\n",
              "    .colab-df-convert {\n",
              "      background-color: #E8F0FE;\n",
              "      border: none;\n",
              "      border-radius: 50%;\n",
              "      cursor: pointer;\n",
              "      display: none;\n",
              "      fill: #1967D2;\n",
              "      height: 32px;\n",
              "      padding: 0 0 0 0;\n",
              "      width: 32px;\n",
              "    }\n",
              "\n",
              "    .colab-df-convert:hover {\n",
              "      background-color: #E2EBFA;\n",
              "      box-shadow: 0px 1px 2px rgba(60, 64, 67, 0.3), 0px 1px 3px 1px rgba(60, 64, 67, 0.15);\n",
              "      fill: #174EA6;\n",
              "    }\n",
              "\n",
              "    [theme=dark] .colab-df-convert {\n",
              "      background-color: #3B4455;\n",
              "      fill: #D2E3FC;\n",
              "    }\n",
              "\n",
              "    [theme=dark] .colab-df-convert:hover {\n",
              "      background-color: #434B5C;\n",
              "      box-shadow: 0px 1px 3px 1px rgba(0, 0, 0, 0.15);\n",
              "      filter: drop-shadow(0px 1px 2px rgba(0, 0, 0, 0.3));\n",
              "      fill: #FFFFFF;\n",
              "    }\n",
              "  </style>\n",
              "\n",
              "      <script>\n",
              "        const buttonEl =\n",
              "          document.querySelector('#df-ff6a57a8-b536-4767-9052-e30b5d9b976a button.colab-df-convert');\n",
              "        buttonEl.style.display =\n",
              "          google.colab.kernel.accessAllowed ? 'block' : 'none';\n",
              "\n",
              "        async function convertToInteractive(key) {\n",
              "          const element = document.querySelector('#df-ff6a57a8-b536-4767-9052-e30b5d9b976a');\n",
              "          const dataTable =\n",
              "            await google.colab.kernel.invokeFunction('convertToInteractive',\n",
              "                                                     [key], {});\n",
              "          if (!dataTable) return;\n",
              "\n",
              "          const docLinkHtml = 'Like what you see? Visit the ' +\n",
              "            '<a target=\"_blank\" href=https://colab.research.google.com/notebooks/data_table.ipynb>data table notebook</a>'\n",
              "            + ' to learn more about interactive tables.';\n",
              "          element.innerHTML = '';\n",
              "          dataTable['output_type'] = 'display_data';\n",
              "          await google.colab.output.renderOutput(dataTable, element);\n",
              "          const docLink = document.createElement('div');\n",
              "          docLink.innerHTML = docLinkHtml;\n",
              "          element.appendChild(docLink);\n",
              "        }\n",
              "      </script>\n",
              "    </div>\n",
              "  </div>\n",
              "  "
            ]
          },
          "metadata": {},
          "execution_count": 9
        }
      ]
    },
    {
      "cell_type": "markdown",
      "source": [
        "---\n",
        "**-**Adding a new column containing the degree average of 10th grade, 12th grade, college, and MBA degrees which are in the dataset:\n"
      ],
      "metadata": {
        "id": "1oN545vP5eka"
      }
    },
    {
      "cell_type": "code",
      "source": [
        "avg_list = []\n",
        "avg = 0\n",
        "\n",
        "for i in range(df.shape[0]):\n",
        "  avg = (df['ssc_p'][i] + df['hsc_p'][i] + df['degree_p'][i] + df['mba_p'][i])/4\n",
        "  avg_list.append(avg)\n",
        "\n",
        "df['degree_avg'] = avg_list\n",
        "df_ws['degree_avg'] = avg_list\n",
        "df.head()"
      ],
      "metadata": {
        "colab": {
          "base_uri": "https://localhost:8080/",
          "height": 268
        },
        "id": "turqzwAeLIzR",
        "outputId": "1a2e434e-2fac-4b92-bf4e-f4c52fcafb83"
      },
      "execution_count": null,
      "outputs": [
        {
          "output_type": "execute_result",
          "data": {
            "text/plain": [
              "   sl_no gender  ssc_p    ssc_b  hsc_p    hsc_b     hsc_s  degree_p  \\\n",
              "0      1      M  67.00   Others  91.00   Others  Commerce     58.00   \n",
              "1      2      M  79.33  Central  78.33   Others   Science     77.48   \n",
              "2      3      M  65.00  Central  68.00  Central      Arts     64.00   \n",
              "3      4      M  56.00  Central  52.00  Central   Science     52.00   \n",
              "4      5      M  85.80  Central  73.60  Central  Commerce     73.30   \n",
              "\n",
              "    degree_t workex  etest_p specialisation  mba_p status    salary  \\\n",
              "0   Sci&Tech     No     55.0         Mkt&HR  58.80    1.0  270000.0   \n",
              "1   Sci&Tech    Yes     86.5        Mkt&Fin  66.28    1.0  200000.0   \n",
              "2  Comm&Mgmt     No     75.0        Mkt&Fin  57.80    1.0  250000.0   \n",
              "3   Sci&Tech     No     66.0         Mkt&HR  59.43    0.0       NaN   \n",
              "4  Comm&Mgmt     No     96.8        Mkt&Fin  55.50    1.0  425000.0   \n",
              "\n",
              "   degree_avg  \n",
              "0     68.7000  \n",
              "1     75.3550  \n",
              "2     63.7000  \n",
              "3     54.8575  \n",
              "4     72.0500  "
            ],
            "text/html": [
              "\n",
              "  <div id=\"df-eed39028-10da-4f68-8592-bdeae4ce729a\">\n",
              "    <div class=\"colab-df-container\">\n",
              "      <div>\n",
              "<style scoped>\n",
              "    .dataframe tbody tr th:only-of-type {\n",
              "        vertical-align: middle;\n",
              "    }\n",
              "\n",
              "    .dataframe tbody tr th {\n",
              "        vertical-align: top;\n",
              "    }\n",
              "\n",
              "    .dataframe thead th {\n",
              "        text-align: right;\n",
              "    }\n",
              "</style>\n",
              "<table border=\"1\" class=\"dataframe\">\n",
              "  <thead>\n",
              "    <tr style=\"text-align: right;\">\n",
              "      <th></th>\n",
              "      <th>sl_no</th>\n",
              "      <th>gender</th>\n",
              "      <th>ssc_p</th>\n",
              "      <th>ssc_b</th>\n",
              "      <th>hsc_p</th>\n",
              "      <th>hsc_b</th>\n",
              "      <th>hsc_s</th>\n",
              "      <th>degree_p</th>\n",
              "      <th>degree_t</th>\n",
              "      <th>workex</th>\n",
              "      <th>etest_p</th>\n",
              "      <th>specialisation</th>\n",
              "      <th>mba_p</th>\n",
              "      <th>status</th>\n",
              "      <th>salary</th>\n",
              "      <th>degree_avg</th>\n",
              "    </tr>\n",
              "  </thead>\n",
              "  <tbody>\n",
              "    <tr>\n",
              "      <th>0</th>\n",
              "      <td>1</td>\n",
              "      <td>M</td>\n",
              "      <td>67.00</td>\n",
              "      <td>Others</td>\n",
              "      <td>91.00</td>\n",
              "      <td>Others</td>\n",
              "      <td>Commerce</td>\n",
              "      <td>58.00</td>\n",
              "      <td>Sci&amp;Tech</td>\n",
              "      <td>No</td>\n",
              "      <td>55.0</td>\n",
              "      <td>Mkt&amp;HR</td>\n",
              "      <td>58.80</td>\n",
              "      <td>1.0</td>\n",
              "      <td>270000.0</td>\n",
              "      <td>68.7000</td>\n",
              "    </tr>\n",
              "    <tr>\n",
              "      <th>1</th>\n",
              "      <td>2</td>\n",
              "      <td>M</td>\n",
              "      <td>79.33</td>\n",
              "      <td>Central</td>\n",
              "      <td>78.33</td>\n",
              "      <td>Others</td>\n",
              "      <td>Science</td>\n",
              "      <td>77.48</td>\n",
              "      <td>Sci&amp;Tech</td>\n",
              "      <td>Yes</td>\n",
              "      <td>86.5</td>\n",
              "      <td>Mkt&amp;Fin</td>\n",
              "      <td>66.28</td>\n",
              "      <td>1.0</td>\n",
              "      <td>200000.0</td>\n",
              "      <td>75.3550</td>\n",
              "    </tr>\n",
              "    <tr>\n",
              "      <th>2</th>\n",
              "      <td>3</td>\n",
              "      <td>M</td>\n",
              "      <td>65.00</td>\n",
              "      <td>Central</td>\n",
              "      <td>68.00</td>\n",
              "      <td>Central</td>\n",
              "      <td>Arts</td>\n",
              "      <td>64.00</td>\n",
              "      <td>Comm&amp;Mgmt</td>\n",
              "      <td>No</td>\n",
              "      <td>75.0</td>\n",
              "      <td>Mkt&amp;Fin</td>\n",
              "      <td>57.80</td>\n",
              "      <td>1.0</td>\n",
              "      <td>250000.0</td>\n",
              "      <td>63.7000</td>\n",
              "    </tr>\n",
              "    <tr>\n",
              "      <th>3</th>\n",
              "      <td>4</td>\n",
              "      <td>M</td>\n",
              "      <td>56.00</td>\n",
              "      <td>Central</td>\n",
              "      <td>52.00</td>\n",
              "      <td>Central</td>\n",
              "      <td>Science</td>\n",
              "      <td>52.00</td>\n",
              "      <td>Sci&amp;Tech</td>\n",
              "      <td>No</td>\n",
              "      <td>66.0</td>\n",
              "      <td>Mkt&amp;HR</td>\n",
              "      <td>59.43</td>\n",
              "      <td>0.0</td>\n",
              "      <td>NaN</td>\n",
              "      <td>54.8575</td>\n",
              "    </tr>\n",
              "    <tr>\n",
              "      <th>4</th>\n",
              "      <td>5</td>\n",
              "      <td>M</td>\n",
              "      <td>85.80</td>\n",
              "      <td>Central</td>\n",
              "      <td>73.60</td>\n",
              "      <td>Central</td>\n",
              "      <td>Commerce</td>\n",
              "      <td>73.30</td>\n",
              "      <td>Comm&amp;Mgmt</td>\n",
              "      <td>No</td>\n",
              "      <td>96.8</td>\n",
              "      <td>Mkt&amp;Fin</td>\n",
              "      <td>55.50</td>\n",
              "      <td>1.0</td>\n",
              "      <td>425000.0</td>\n",
              "      <td>72.0500</td>\n",
              "    </tr>\n",
              "  </tbody>\n",
              "</table>\n",
              "</div>\n",
              "      <button class=\"colab-df-convert\" onclick=\"convertToInteractive('df-eed39028-10da-4f68-8592-bdeae4ce729a')\"\n",
              "              title=\"Convert this dataframe to an interactive table.\"\n",
              "              style=\"display:none;\">\n",
              "        \n",
              "  <svg xmlns=\"http://www.w3.org/2000/svg\" height=\"24px\"viewBox=\"0 0 24 24\"\n",
              "       width=\"24px\">\n",
              "    <path d=\"M0 0h24v24H0V0z\" fill=\"none\"/>\n",
              "    <path d=\"M18.56 5.44l.94 2.06.94-2.06 2.06-.94-2.06-.94-.94-2.06-.94 2.06-2.06.94zm-11 1L8.5 8.5l.94-2.06 2.06-.94-2.06-.94L8.5 2.5l-.94 2.06-2.06.94zm10 10l.94 2.06.94-2.06 2.06-.94-2.06-.94-.94-2.06-.94 2.06-2.06.94z\"/><path d=\"M17.41 7.96l-1.37-1.37c-.4-.4-.92-.59-1.43-.59-.52 0-1.04.2-1.43.59L10.3 9.45l-7.72 7.72c-.78.78-.78 2.05 0 2.83L4 21.41c.39.39.9.59 1.41.59.51 0 1.02-.2 1.41-.59l7.78-7.78 2.81-2.81c.8-.78.8-2.07 0-2.86zM5.41 20L4 18.59l7.72-7.72 1.47 1.35L5.41 20z\"/>\n",
              "  </svg>\n",
              "      </button>\n",
              "      \n",
              "  <style>\n",
              "    .colab-df-container {\n",
              "      display:flex;\n",
              "      flex-wrap:wrap;\n",
              "      gap: 12px;\n",
              "    }\n",
              "\n",
              "    .colab-df-convert {\n",
              "      background-color: #E8F0FE;\n",
              "      border: none;\n",
              "      border-radius: 50%;\n",
              "      cursor: pointer;\n",
              "      display: none;\n",
              "      fill: #1967D2;\n",
              "      height: 32px;\n",
              "      padding: 0 0 0 0;\n",
              "      width: 32px;\n",
              "    }\n",
              "\n",
              "    .colab-df-convert:hover {\n",
              "      background-color: #E2EBFA;\n",
              "      box-shadow: 0px 1px 2px rgba(60, 64, 67, 0.3), 0px 1px 3px 1px rgba(60, 64, 67, 0.15);\n",
              "      fill: #174EA6;\n",
              "    }\n",
              "\n",
              "    [theme=dark] .colab-df-convert {\n",
              "      background-color: #3B4455;\n",
              "      fill: #D2E3FC;\n",
              "    }\n",
              "\n",
              "    [theme=dark] .colab-df-convert:hover {\n",
              "      background-color: #434B5C;\n",
              "      box-shadow: 0px 1px 3px 1px rgba(0, 0, 0, 0.15);\n",
              "      filter: drop-shadow(0px 1px 2px rgba(0, 0, 0, 0.3));\n",
              "      fill: #FFFFFF;\n",
              "    }\n",
              "  </style>\n",
              "\n",
              "      <script>\n",
              "        const buttonEl =\n",
              "          document.querySelector('#df-eed39028-10da-4f68-8592-bdeae4ce729a button.colab-df-convert');\n",
              "        buttonEl.style.display =\n",
              "          google.colab.kernel.accessAllowed ? 'block' : 'none';\n",
              "\n",
              "        async function convertToInteractive(key) {\n",
              "          const element = document.querySelector('#df-eed39028-10da-4f68-8592-bdeae4ce729a');\n",
              "          const dataTable =\n",
              "            await google.colab.kernel.invokeFunction('convertToInteractive',\n",
              "                                                     [key], {});\n",
              "          if (!dataTable) return;\n",
              "\n",
              "          const docLinkHtml = 'Like what you see? Visit the ' +\n",
              "            '<a target=\"_blank\" href=https://colab.research.google.com/notebooks/data_table.ipynb>data table notebook</a>'\n",
              "            + ' to learn more about interactive tables.';\n",
              "          element.innerHTML = '';\n",
              "          dataTable['output_type'] = 'display_data';\n",
              "          await google.colab.output.renderOutput(dataTable, element);\n",
              "          const docLink = document.createElement('div');\n",
              "          docLink.innerHTML = docLinkHtml;\n",
              "          element.appendChild(docLink);\n",
              "        }\n",
              "      </script>\n",
              "    </div>\n",
              "  </div>\n",
              "  "
            ]
          },
          "metadata": {},
          "execution_count": 10
        }
      ]
    },
    {
      "cell_type": "markdown",
      "source": [
        "---\n",
        "**-**Creating a new column consisting of the data average group, with the groups\n",
        "low ( - 55),\n",
        "lower-mid (55 - 65),\n",
        "upper-mid (65 - 75), and\n",
        "high (75- )"
      ],
      "metadata": {
        "id": "kdw76-zjCPjn"
      }
    },
    {
      "cell_type": "code",
      "source": [
        "col_list = []\n",
        "\n",
        "for i in range(df.shape[0]):\n",
        "  if (df_ws['degree_avg'][i] < 55):\n",
        "    col_list.append(\"low\")\n",
        "\n",
        "  elif (df_ws['degree_avg'][i] < 65):\n",
        "    col_list.append(\"lower-mid\")\n",
        "\n",
        "  elif (df_ws['degree_avg'][i] < 75):\n",
        "    col_list.append(\"upper-mid\")\n",
        "\n",
        "  else:\n",
        "        col_list.append(\"high\")\n",
        "\n",
        "df_ws['degree_avg_group']= col_list\n",
        "df['degree_avg_group']= col_list\n",
        "\n",
        "fd = df_ws.pop(\"degree_avg_group\")\n",
        "df_ws = pd.concat([df_ws, pd.get_dummies(fd, prefix = col)], axis = 1)\n",
        "\n",
        "df_ws.head()"
      ],
      "metadata": {
        "colab": {
          "base_uri": "https://localhost:8080/",
          "height": 314
        },
        "id": "x0xgZ2g2D8S-",
        "outputId": "421a0288-fb06-45a8-8442-7fdf1b086b70"
      },
      "execution_count": null,
      "outputs": [
        {
          "output_type": "execute_result",
          "data": {
            "text/plain": [
              "   sl_no  ssc_p  hsc_p  degree_p  etest_p  mba_p status  gender_F  gender_M  \\\n",
              "0      1  67.00  91.00     58.00     55.0  58.80    1.0         0         1   \n",
              "1      2  79.33  78.33     77.48     86.5  66.28    1.0         0         1   \n",
              "2      3  65.00  68.00     64.00     75.0  57.80    1.0         0         1   \n",
              "3      4  56.00  52.00     52.00     66.0  59.43    0.0         0         1   \n",
              "4      5  85.80  73.60     73.30     96.8  55.50    1.0         0         1   \n",
              "\n",
              "   ssc_b_Central  ...  degree_t_Sci&Tech  workex_No  workex_Yes  \\\n",
              "0              0  ...                  1          1           0   \n",
              "1              1  ...                  1          0           1   \n",
              "2              1  ...                  0          1           0   \n",
              "3              1  ...                  1          1           0   \n",
              "4              1  ...                  0          1           0   \n",
              "\n",
              "   specialisation_Mkt&Fin  specialisation_Mkt&HR  degree_avg  status_high  \\\n",
              "0                       0                      1     68.7000            0   \n",
              "1                       1                      0     75.3550            1   \n",
              "2                       1                      0     63.7000            0   \n",
              "3                       0                      1     54.8575            0   \n",
              "4                       1                      0     72.0500            0   \n",
              "\n",
              "   status_low  status_lower-mid  status_upper-mid  \n",
              "0           0                 0                 1  \n",
              "1           0                 0                 0  \n",
              "2           0                 1                 0  \n",
              "3           1                 0                 0  \n",
              "4           0                 0                 1  \n",
              "\n",
              "[5 rows x 28 columns]"
            ],
            "text/html": [
              "\n",
              "  <div id=\"df-fbb8adf6-640d-4036-8166-f8e936ebbbee\">\n",
              "    <div class=\"colab-df-container\">\n",
              "      <div>\n",
              "<style scoped>\n",
              "    .dataframe tbody tr th:only-of-type {\n",
              "        vertical-align: middle;\n",
              "    }\n",
              "\n",
              "    .dataframe tbody tr th {\n",
              "        vertical-align: top;\n",
              "    }\n",
              "\n",
              "    .dataframe thead th {\n",
              "        text-align: right;\n",
              "    }\n",
              "</style>\n",
              "<table border=\"1\" class=\"dataframe\">\n",
              "  <thead>\n",
              "    <tr style=\"text-align: right;\">\n",
              "      <th></th>\n",
              "      <th>sl_no</th>\n",
              "      <th>ssc_p</th>\n",
              "      <th>hsc_p</th>\n",
              "      <th>degree_p</th>\n",
              "      <th>etest_p</th>\n",
              "      <th>mba_p</th>\n",
              "      <th>status</th>\n",
              "      <th>gender_F</th>\n",
              "      <th>gender_M</th>\n",
              "      <th>ssc_b_Central</th>\n",
              "      <th>...</th>\n",
              "      <th>degree_t_Sci&amp;Tech</th>\n",
              "      <th>workex_No</th>\n",
              "      <th>workex_Yes</th>\n",
              "      <th>specialisation_Mkt&amp;Fin</th>\n",
              "      <th>specialisation_Mkt&amp;HR</th>\n",
              "      <th>degree_avg</th>\n",
              "      <th>status_high</th>\n",
              "      <th>status_low</th>\n",
              "      <th>status_lower-mid</th>\n",
              "      <th>status_upper-mid</th>\n",
              "    </tr>\n",
              "  </thead>\n",
              "  <tbody>\n",
              "    <tr>\n",
              "      <th>0</th>\n",
              "      <td>1</td>\n",
              "      <td>67.00</td>\n",
              "      <td>91.00</td>\n",
              "      <td>58.00</td>\n",
              "      <td>55.0</td>\n",
              "      <td>58.80</td>\n",
              "      <td>1.0</td>\n",
              "      <td>0</td>\n",
              "      <td>1</td>\n",
              "      <td>0</td>\n",
              "      <td>...</td>\n",
              "      <td>1</td>\n",
              "      <td>1</td>\n",
              "      <td>0</td>\n",
              "      <td>0</td>\n",
              "      <td>1</td>\n",
              "      <td>68.7000</td>\n",
              "      <td>0</td>\n",
              "      <td>0</td>\n",
              "      <td>0</td>\n",
              "      <td>1</td>\n",
              "    </tr>\n",
              "    <tr>\n",
              "      <th>1</th>\n",
              "      <td>2</td>\n",
              "      <td>79.33</td>\n",
              "      <td>78.33</td>\n",
              "      <td>77.48</td>\n",
              "      <td>86.5</td>\n",
              "      <td>66.28</td>\n",
              "      <td>1.0</td>\n",
              "      <td>0</td>\n",
              "      <td>1</td>\n",
              "      <td>1</td>\n",
              "      <td>...</td>\n",
              "      <td>1</td>\n",
              "      <td>0</td>\n",
              "      <td>1</td>\n",
              "      <td>1</td>\n",
              "      <td>0</td>\n",
              "      <td>75.3550</td>\n",
              "      <td>1</td>\n",
              "      <td>0</td>\n",
              "      <td>0</td>\n",
              "      <td>0</td>\n",
              "    </tr>\n",
              "    <tr>\n",
              "      <th>2</th>\n",
              "      <td>3</td>\n",
              "      <td>65.00</td>\n",
              "      <td>68.00</td>\n",
              "      <td>64.00</td>\n",
              "      <td>75.0</td>\n",
              "      <td>57.80</td>\n",
              "      <td>1.0</td>\n",
              "      <td>0</td>\n",
              "      <td>1</td>\n",
              "      <td>1</td>\n",
              "      <td>...</td>\n",
              "      <td>0</td>\n",
              "      <td>1</td>\n",
              "      <td>0</td>\n",
              "      <td>1</td>\n",
              "      <td>0</td>\n",
              "      <td>63.7000</td>\n",
              "      <td>0</td>\n",
              "      <td>0</td>\n",
              "      <td>1</td>\n",
              "      <td>0</td>\n",
              "    </tr>\n",
              "    <tr>\n",
              "      <th>3</th>\n",
              "      <td>4</td>\n",
              "      <td>56.00</td>\n",
              "      <td>52.00</td>\n",
              "      <td>52.00</td>\n",
              "      <td>66.0</td>\n",
              "      <td>59.43</td>\n",
              "      <td>0.0</td>\n",
              "      <td>0</td>\n",
              "      <td>1</td>\n",
              "      <td>1</td>\n",
              "      <td>...</td>\n",
              "      <td>1</td>\n",
              "      <td>1</td>\n",
              "      <td>0</td>\n",
              "      <td>0</td>\n",
              "      <td>1</td>\n",
              "      <td>54.8575</td>\n",
              "      <td>0</td>\n",
              "      <td>1</td>\n",
              "      <td>0</td>\n",
              "      <td>0</td>\n",
              "    </tr>\n",
              "    <tr>\n",
              "      <th>4</th>\n",
              "      <td>5</td>\n",
              "      <td>85.80</td>\n",
              "      <td>73.60</td>\n",
              "      <td>73.30</td>\n",
              "      <td>96.8</td>\n",
              "      <td>55.50</td>\n",
              "      <td>1.0</td>\n",
              "      <td>0</td>\n",
              "      <td>1</td>\n",
              "      <td>1</td>\n",
              "      <td>...</td>\n",
              "      <td>0</td>\n",
              "      <td>1</td>\n",
              "      <td>0</td>\n",
              "      <td>1</td>\n",
              "      <td>0</td>\n",
              "      <td>72.0500</td>\n",
              "      <td>0</td>\n",
              "      <td>0</td>\n",
              "      <td>0</td>\n",
              "      <td>1</td>\n",
              "    </tr>\n",
              "  </tbody>\n",
              "</table>\n",
              "<p>5 rows × 28 columns</p>\n",
              "</div>\n",
              "      <button class=\"colab-df-convert\" onclick=\"convertToInteractive('df-fbb8adf6-640d-4036-8166-f8e936ebbbee')\"\n",
              "              title=\"Convert this dataframe to an interactive table.\"\n",
              "              style=\"display:none;\">\n",
              "        \n",
              "  <svg xmlns=\"http://www.w3.org/2000/svg\" height=\"24px\"viewBox=\"0 0 24 24\"\n",
              "       width=\"24px\">\n",
              "    <path d=\"M0 0h24v24H0V0z\" fill=\"none\"/>\n",
              "    <path d=\"M18.56 5.44l.94 2.06.94-2.06 2.06-.94-2.06-.94-.94-2.06-.94 2.06-2.06.94zm-11 1L8.5 8.5l.94-2.06 2.06-.94-2.06-.94L8.5 2.5l-.94 2.06-2.06.94zm10 10l.94 2.06.94-2.06 2.06-.94-2.06-.94-.94-2.06-.94 2.06-2.06.94z\"/><path d=\"M17.41 7.96l-1.37-1.37c-.4-.4-.92-.59-1.43-.59-.52 0-1.04.2-1.43.59L10.3 9.45l-7.72 7.72c-.78.78-.78 2.05 0 2.83L4 21.41c.39.39.9.59 1.41.59.51 0 1.02-.2 1.41-.59l7.78-7.78 2.81-2.81c.8-.78.8-2.07 0-2.86zM5.41 20L4 18.59l7.72-7.72 1.47 1.35L5.41 20z\"/>\n",
              "  </svg>\n",
              "      </button>\n",
              "      \n",
              "  <style>\n",
              "    .colab-df-container {\n",
              "      display:flex;\n",
              "      flex-wrap:wrap;\n",
              "      gap: 12px;\n",
              "    }\n",
              "\n",
              "    .colab-df-convert {\n",
              "      background-color: #E8F0FE;\n",
              "      border: none;\n",
              "      border-radius: 50%;\n",
              "      cursor: pointer;\n",
              "      display: none;\n",
              "      fill: #1967D2;\n",
              "      height: 32px;\n",
              "      padding: 0 0 0 0;\n",
              "      width: 32px;\n",
              "    }\n",
              "\n",
              "    .colab-df-convert:hover {\n",
              "      background-color: #E2EBFA;\n",
              "      box-shadow: 0px 1px 2px rgba(60, 64, 67, 0.3), 0px 1px 3px 1px rgba(60, 64, 67, 0.15);\n",
              "      fill: #174EA6;\n",
              "    }\n",
              "\n",
              "    [theme=dark] .colab-df-convert {\n",
              "      background-color: #3B4455;\n",
              "      fill: #D2E3FC;\n",
              "    }\n",
              "\n",
              "    [theme=dark] .colab-df-convert:hover {\n",
              "      background-color: #434B5C;\n",
              "      box-shadow: 0px 1px 3px 1px rgba(0, 0, 0, 0.15);\n",
              "      filter: drop-shadow(0px 1px 2px rgba(0, 0, 0, 0.3));\n",
              "      fill: #FFFFFF;\n",
              "    }\n",
              "  </style>\n",
              "\n",
              "      <script>\n",
              "        const buttonEl =\n",
              "          document.querySelector('#df-fbb8adf6-640d-4036-8166-f8e936ebbbee button.colab-df-convert');\n",
              "        buttonEl.style.display =\n",
              "          google.colab.kernel.accessAllowed ? 'block' : 'none';\n",
              "\n",
              "        async function convertToInteractive(key) {\n",
              "          const element = document.querySelector('#df-fbb8adf6-640d-4036-8166-f8e936ebbbee');\n",
              "          const dataTable =\n",
              "            await google.colab.kernel.invokeFunction('convertToInteractive',\n",
              "                                                     [key], {});\n",
              "          if (!dataTable) return;\n",
              "\n",
              "          const docLinkHtml = 'Like what you see? Visit the ' +\n",
              "            '<a target=\"_blank\" href=https://colab.research.google.com/notebooks/data_table.ipynb>data table notebook</a>'\n",
              "            + ' to learn more about interactive tables.';\n",
              "          element.innerHTML = '';\n",
              "          dataTable['output_type'] = 'display_data';\n",
              "          await google.colab.output.renderOutput(dataTable, element);\n",
              "          const docLink = document.createElement('div');\n",
              "          docLink.innerHTML = docLinkHtml;\n",
              "          element.appendChild(docLink);\n",
              "        }\n",
              "      </script>\n",
              "    </div>\n",
              "  </div>\n",
              "  "
            ]
          },
          "metadata": {},
          "execution_count": 11
        }
      ]
    },
    {
      "cell_type": "markdown",
      "source": [
        "---\n",
        "**-**Creating a new Pandas Dataframe object without the rows which are Not Placed:"
      ],
      "metadata": {
        "id": "2dZij6u-6hT9"
      }
    },
    {
      "cell_type": "code",
      "source": [
        "placed = df.dropna()\n",
        "placed.head()"
      ],
      "metadata": {
        "id": "pJxxoMrvEpyX",
        "outputId": "1c340297-f0dd-40a0-99e7-e0f1c60206b1",
        "colab": {
          "base_uri": "https://localhost:8080/",
          "height": 268
        }
      },
      "execution_count": null,
      "outputs": [
        {
          "output_type": "execute_result",
          "data": {
            "text/plain": [
              "   sl_no gender  ssc_p    ssc_b  hsc_p    hsc_b     hsc_s  degree_p  \\\n",
              "0      1      M  67.00   Others  91.00   Others  Commerce     58.00   \n",
              "1      2      M  79.33  Central  78.33   Others   Science     77.48   \n",
              "2      3      M  65.00  Central  68.00  Central      Arts     64.00   \n",
              "4      5      M  85.80  Central  73.60  Central  Commerce     73.30   \n",
              "7      8      M  82.00  Central  64.00  Central   Science     66.00   \n",
              "\n",
              "    degree_t workex  etest_p specialisation  mba_p status    salary  \\\n",
              "0   Sci&Tech     No     55.0         Mkt&HR  58.80    1.0  270000.0   \n",
              "1   Sci&Tech    Yes     86.5        Mkt&Fin  66.28    1.0  200000.0   \n",
              "2  Comm&Mgmt     No     75.0        Mkt&Fin  57.80    1.0  250000.0   \n",
              "4  Comm&Mgmt     No     96.8        Mkt&Fin  55.50    1.0  425000.0   \n",
              "7   Sci&Tech    Yes     67.0        Mkt&Fin  62.14    1.0  252000.0   \n",
              "\n",
              "   degree_avg degree_avg_group  \n",
              "0      68.700        upper-mid  \n",
              "1      75.355             high  \n",
              "2      63.700        lower-mid  \n",
              "4      72.050        upper-mid  \n",
              "7      68.535        upper-mid  "
            ],
            "text/html": [
              "\n",
              "  <div id=\"df-79156592-b7bb-4bfd-825a-05b4b558de30\">\n",
              "    <div class=\"colab-df-container\">\n",
              "      <div>\n",
              "<style scoped>\n",
              "    .dataframe tbody tr th:only-of-type {\n",
              "        vertical-align: middle;\n",
              "    }\n",
              "\n",
              "    .dataframe tbody tr th {\n",
              "        vertical-align: top;\n",
              "    }\n",
              "\n",
              "    .dataframe thead th {\n",
              "        text-align: right;\n",
              "    }\n",
              "</style>\n",
              "<table border=\"1\" class=\"dataframe\">\n",
              "  <thead>\n",
              "    <tr style=\"text-align: right;\">\n",
              "      <th></th>\n",
              "      <th>sl_no</th>\n",
              "      <th>gender</th>\n",
              "      <th>ssc_p</th>\n",
              "      <th>ssc_b</th>\n",
              "      <th>hsc_p</th>\n",
              "      <th>hsc_b</th>\n",
              "      <th>hsc_s</th>\n",
              "      <th>degree_p</th>\n",
              "      <th>degree_t</th>\n",
              "      <th>workex</th>\n",
              "      <th>etest_p</th>\n",
              "      <th>specialisation</th>\n",
              "      <th>mba_p</th>\n",
              "      <th>status</th>\n",
              "      <th>salary</th>\n",
              "      <th>degree_avg</th>\n",
              "      <th>degree_avg_group</th>\n",
              "    </tr>\n",
              "  </thead>\n",
              "  <tbody>\n",
              "    <tr>\n",
              "      <th>0</th>\n",
              "      <td>1</td>\n",
              "      <td>M</td>\n",
              "      <td>67.00</td>\n",
              "      <td>Others</td>\n",
              "      <td>91.00</td>\n",
              "      <td>Others</td>\n",
              "      <td>Commerce</td>\n",
              "      <td>58.00</td>\n",
              "      <td>Sci&amp;Tech</td>\n",
              "      <td>No</td>\n",
              "      <td>55.0</td>\n",
              "      <td>Mkt&amp;HR</td>\n",
              "      <td>58.80</td>\n",
              "      <td>1.0</td>\n",
              "      <td>270000.0</td>\n",
              "      <td>68.700</td>\n",
              "      <td>upper-mid</td>\n",
              "    </tr>\n",
              "    <tr>\n",
              "      <th>1</th>\n",
              "      <td>2</td>\n",
              "      <td>M</td>\n",
              "      <td>79.33</td>\n",
              "      <td>Central</td>\n",
              "      <td>78.33</td>\n",
              "      <td>Others</td>\n",
              "      <td>Science</td>\n",
              "      <td>77.48</td>\n",
              "      <td>Sci&amp;Tech</td>\n",
              "      <td>Yes</td>\n",
              "      <td>86.5</td>\n",
              "      <td>Mkt&amp;Fin</td>\n",
              "      <td>66.28</td>\n",
              "      <td>1.0</td>\n",
              "      <td>200000.0</td>\n",
              "      <td>75.355</td>\n",
              "      <td>high</td>\n",
              "    </tr>\n",
              "    <tr>\n",
              "      <th>2</th>\n",
              "      <td>3</td>\n",
              "      <td>M</td>\n",
              "      <td>65.00</td>\n",
              "      <td>Central</td>\n",
              "      <td>68.00</td>\n",
              "      <td>Central</td>\n",
              "      <td>Arts</td>\n",
              "      <td>64.00</td>\n",
              "      <td>Comm&amp;Mgmt</td>\n",
              "      <td>No</td>\n",
              "      <td>75.0</td>\n",
              "      <td>Mkt&amp;Fin</td>\n",
              "      <td>57.80</td>\n",
              "      <td>1.0</td>\n",
              "      <td>250000.0</td>\n",
              "      <td>63.700</td>\n",
              "      <td>lower-mid</td>\n",
              "    </tr>\n",
              "    <tr>\n",
              "      <th>4</th>\n",
              "      <td>5</td>\n",
              "      <td>M</td>\n",
              "      <td>85.80</td>\n",
              "      <td>Central</td>\n",
              "      <td>73.60</td>\n",
              "      <td>Central</td>\n",
              "      <td>Commerce</td>\n",
              "      <td>73.30</td>\n",
              "      <td>Comm&amp;Mgmt</td>\n",
              "      <td>No</td>\n",
              "      <td>96.8</td>\n",
              "      <td>Mkt&amp;Fin</td>\n",
              "      <td>55.50</td>\n",
              "      <td>1.0</td>\n",
              "      <td>425000.0</td>\n",
              "      <td>72.050</td>\n",
              "      <td>upper-mid</td>\n",
              "    </tr>\n",
              "    <tr>\n",
              "      <th>7</th>\n",
              "      <td>8</td>\n",
              "      <td>M</td>\n",
              "      <td>82.00</td>\n",
              "      <td>Central</td>\n",
              "      <td>64.00</td>\n",
              "      <td>Central</td>\n",
              "      <td>Science</td>\n",
              "      <td>66.00</td>\n",
              "      <td>Sci&amp;Tech</td>\n",
              "      <td>Yes</td>\n",
              "      <td>67.0</td>\n",
              "      <td>Mkt&amp;Fin</td>\n",
              "      <td>62.14</td>\n",
              "      <td>1.0</td>\n",
              "      <td>252000.0</td>\n",
              "      <td>68.535</td>\n",
              "      <td>upper-mid</td>\n",
              "    </tr>\n",
              "  </tbody>\n",
              "</table>\n",
              "</div>\n",
              "      <button class=\"colab-df-convert\" onclick=\"convertToInteractive('df-79156592-b7bb-4bfd-825a-05b4b558de30')\"\n",
              "              title=\"Convert this dataframe to an interactive table.\"\n",
              "              style=\"display:none;\">\n",
              "        \n",
              "  <svg xmlns=\"http://www.w3.org/2000/svg\" height=\"24px\"viewBox=\"0 0 24 24\"\n",
              "       width=\"24px\">\n",
              "    <path d=\"M0 0h24v24H0V0z\" fill=\"none\"/>\n",
              "    <path d=\"M18.56 5.44l.94 2.06.94-2.06 2.06-.94-2.06-.94-.94-2.06-.94 2.06-2.06.94zm-11 1L8.5 8.5l.94-2.06 2.06-.94-2.06-.94L8.5 2.5l-.94 2.06-2.06.94zm10 10l.94 2.06.94-2.06 2.06-.94-2.06-.94-.94-2.06-.94 2.06-2.06.94z\"/><path d=\"M17.41 7.96l-1.37-1.37c-.4-.4-.92-.59-1.43-.59-.52 0-1.04.2-1.43.59L10.3 9.45l-7.72 7.72c-.78.78-.78 2.05 0 2.83L4 21.41c.39.39.9.59 1.41.59.51 0 1.02-.2 1.41-.59l7.78-7.78 2.81-2.81c.8-.78.8-2.07 0-2.86zM5.41 20L4 18.59l7.72-7.72 1.47 1.35L5.41 20z\"/>\n",
              "  </svg>\n",
              "      </button>\n",
              "      \n",
              "  <style>\n",
              "    .colab-df-container {\n",
              "      display:flex;\n",
              "      flex-wrap:wrap;\n",
              "      gap: 12px;\n",
              "    }\n",
              "\n",
              "    .colab-df-convert {\n",
              "      background-color: #E8F0FE;\n",
              "      border: none;\n",
              "      border-radius: 50%;\n",
              "      cursor: pointer;\n",
              "      display: none;\n",
              "      fill: #1967D2;\n",
              "      height: 32px;\n",
              "      padding: 0 0 0 0;\n",
              "      width: 32px;\n",
              "    }\n",
              "\n",
              "    .colab-df-convert:hover {\n",
              "      background-color: #E2EBFA;\n",
              "      box-shadow: 0px 1px 2px rgba(60, 64, 67, 0.3), 0px 1px 3px 1px rgba(60, 64, 67, 0.15);\n",
              "      fill: #174EA6;\n",
              "    }\n",
              "\n",
              "    [theme=dark] .colab-df-convert {\n",
              "      background-color: #3B4455;\n",
              "      fill: #D2E3FC;\n",
              "    }\n",
              "\n",
              "    [theme=dark] .colab-df-convert:hover {\n",
              "      background-color: #434B5C;\n",
              "      box-shadow: 0px 1px 3px 1px rgba(0, 0, 0, 0.15);\n",
              "      filter: drop-shadow(0px 1px 2px rgba(0, 0, 0, 0.3));\n",
              "      fill: #FFFFFF;\n",
              "    }\n",
              "  </style>\n",
              "\n",
              "      <script>\n",
              "        const buttonEl =\n",
              "          document.querySelector('#df-79156592-b7bb-4bfd-825a-05b4b558de30 button.colab-df-convert');\n",
              "        buttonEl.style.display =\n",
              "          google.colab.kernel.accessAllowed ? 'block' : 'none';\n",
              "\n",
              "        async function convertToInteractive(key) {\n",
              "          const element = document.querySelector('#df-79156592-b7bb-4bfd-825a-05b4b558de30');\n",
              "          const dataTable =\n",
              "            await google.colab.kernel.invokeFunction('convertToInteractive',\n",
              "                                                     [key], {});\n",
              "          if (!dataTable) return;\n",
              "\n",
              "          const docLinkHtml = 'Like what you see? Visit the ' +\n",
              "            '<a target=\"_blank\" href=https://colab.research.google.com/notebooks/data_table.ipynb>data table notebook</a>'\n",
              "            + ' to learn more about interactive tables.';\n",
              "          element.innerHTML = '';\n",
              "          dataTable['output_type'] = 'display_data';\n",
              "          await google.colab.output.renderOutput(dataTable, element);\n",
              "          const docLink = document.createElement('div');\n",
              "          docLink.innerHTML = docLinkHtml;\n",
              "          element.appendChild(docLink);\n",
              "        }\n",
              "      </script>\n",
              "    </div>\n",
              "  </div>\n",
              "  "
            ]
          },
          "metadata": {},
          "execution_count": 12
        }
      ]
    },
    {
      "cell_type": "markdown",
      "source": [
        "---\n",
        "*-*Creating a new Pandas Dataframe object only with those who have a salary offer of less than 320 000 dollars:\n",
        "(most of the rows are this way, we wanted to exclude outliers from the data so that we can show better correlation, if there is any)"
      ],
      "metadata": {
        "id": "KqX3-1kfxP_s"
      }
    },
    {
      "cell_type": "code",
      "source": [
        "newdf = df[df['salary'] < 320000]\n",
        "newdf.head()"
      ],
      "metadata": {
        "colab": {
          "base_uri": "https://localhost:8080/",
          "height": 268
        },
        "id": "-W4vEYQuxPmn",
        "outputId": "9ff54839-efc5-4876-e727-a38f3959d1f2"
      },
      "execution_count": null,
      "outputs": [
        {
          "output_type": "execute_result",
          "data": {
            "text/plain": [
              "   sl_no gender  ssc_p    ssc_b  hsc_p    hsc_b     hsc_s  degree_p  \\\n",
              "0      1      M  67.00   Others  91.00   Others  Commerce     58.00   \n",
              "1      2      M  79.33  Central  78.33   Others   Science     77.48   \n",
              "2      3      M  65.00  Central  68.00  Central      Arts     64.00   \n",
              "7      8      M  82.00  Central  64.00  Central   Science     66.00   \n",
              "8      9      M  73.00  Central  79.00  Central  Commerce     72.00   \n",
              "\n",
              "    degree_t workex  etest_p specialisation  mba_p status    salary  \\\n",
              "0   Sci&Tech     No    55.00         Mkt&HR  58.80    1.0  270000.0   \n",
              "1   Sci&Tech    Yes    86.50        Mkt&Fin  66.28    1.0  200000.0   \n",
              "2  Comm&Mgmt     No    75.00        Mkt&Fin  57.80    1.0  250000.0   \n",
              "7   Sci&Tech    Yes    67.00        Mkt&Fin  62.14    1.0  252000.0   \n",
              "8  Comm&Mgmt     No    91.34        Mkt&Fin  61.29    1.0  231000.0   \n",
              "\n",
              "   degree_avg degree_avg_group  \n",
              "0     68.7000        upper-mid  \n",
              "1     75.3550             high  \n",
              "2     63.7000        lower-mid  \n",
              "7     68.5350        upper-mid  \n",
              "8     71.3225        upper-mid  "
            ],
            "text/html": [
              "\n",
              "  <div id=\"df-2ea2e6ce-b59d-493d-b4b6-6b588b8a2f7d\">\n",
              "    <div class=\"colab-df-container\">\n",
              "      <div>\n",
              "<style scoped>\n",
              "    .dataframe tbody tr th:only-of-type {\n",
              "        vertical-align: middle;\n",
              "    }\n",
              "\n",
              "    .dataframe tbody tr th {\n",
              "        vertical-align: top;\n",
              "    }\n",
              "\n",
              "    .dataframe thead th {\n",
              "        text-align: right;\n",
              "    }\n",
              "</style>\n",
              "<table border=\"1\" class=\"dataframe\">\n",
              "  <thead>\n",
              "    <tr style=\"text-align: right;\">\n",
              "      <th></th>\n",
              "      <th>sl_no</th>\n",
              "      <th>gender</th>\n",
              "      <th>ssc_p</th>\n",
              "      <th>ssc_b</th>\n",
              "      <th>hsc_p</th>\n",
              "      <th>hsc_b</th>\n",
              "      <th>hsc_s</th>\n",
              "      <th>degree_p</th>\n",
              "      <th>degree_t</th>\n",
              "      <th>workex</th>\n",
              "      <th>etest_p</th>\n",
              "      <th>specialisation</th>\n",
              "      <th>mba_p</th>\n",
              "      <th>status</th>\n",
              "      <th>salary</th>\n",
              "      <th>degree_avg</th>\n",
              "      <th>degree_avg_group</th>\n",
              "    </tr>\n",
              "  </thead>\n",
              "  <tbody>\n",
              "    <tr>\n",
              "      <th>0</th>\n",
              "      <td>1</td>\n",
              "      <td>M</td>\n",
              "      <td>67.00</td>\n",
              "      <td>Others</td>\n",
              "      <td>91.00</td>\n",
              "      <td>Others</td>\n",
              "      <td>Commerce</td>\n",
              "      <td>58.00</td>\n",
              "      <td>Sci&amp;Tech</td>\n",
              "      <td>No</td>\n",
              "      <td>55.00</td>\n",
              "      <td>Mkt&amp;HR</td>\n",
              "      <td>58.80</td>\n",
              "      <td>1.0</td>\n",
              "      <td>270000.0</td>\n",
              "      <td>68.7000</td>\n",
              "      <td>upper-mid</td>\n",
              "    </tr>\n",
              "    <tr>\n",
              "      <th>1</th>\n",
              "      <td>2</td>\n",
              "      <td>M</td>\n",
              "      <td>79.33</td>\n",
              "      <td>Central</td>\n",
              "      <td>78.33</td>\n",
              "      <td>Others</td>\n",
              "      <td>Science</td>\n",
              "      <td>77.48</td>\n",
              "      <td>Sci&amp;Tech</td>\n",
              "      <td>Yes</td>\n",
              "      <td>86.50</td>\n",
              "      <td>Mkt&amp;Fin</td>\n",
              "      <td>66.28</td>\n",
              "      <td>1.0</td>\n",
              "      <td>200000.0</td>\n",
              "      <td>75.3550</td>\n",
              "      <td>high</td>\n",
              "    </tr>\n",
              "    <tr>\n",
              "      <th>2</th>\n",
              "      <td>3</td>\n",
              "      <td>M</td>\n",
              "      <td>65.00</td>\n",
              "      <td>Central</td>\n",
              "      <td>68.00</td>\n",
              "      <td>Central</td>\n",
              "      <td>Arts</td>\n",
              "      <td>64.00</td>\n",
              "      <td>Comm&amp;Mgmt</td>\n",
              "      <td>No</td>\n",
              "      <td>75.00</td>\n",
              "      <td>Mkt&amp;Fin</td>\n",
              "      <td>57.80</td>\n",
              "      <td>1.0</td>\n",
              "      <td>250000.0</td>\n",
              "      <td>63.7000</td>\n",
              "      <td>lower-mid</td>\n",
              "    </tr>\n",
              "    <tr>\n",
              "      <th>7</th>\n",
              "      <td>8</td>\n",
              "      <td>M</td>\n",
              "      <td>82.00</td>\n",
              "      <td>Central</td>\n",
              "      <td>64.00</td>\n",
              "      <td>Central</td>\n",
              "      <td>Science</td>\n",
              "      <td>66.00</td>\n",
              "      <td>Sci&amp;Tech</td>\n",
              "      <td>Yes</td>\n",
              "      <td>67.00</td>\n",
              "      <td>Mkt&amp;Fin</td>\n",
              "      <td>62.14</td>\n",
              "      <td>1.0</td>\n",
              "      <td>252000.0</td>\n",
              "      <td>68.5350</td>\n",
              "      <td>upper-mid</td>\n",
              "    </tr>\n",
              "    <tr>\n",
              "      <th>8</th>\n",
              "      <td>9</td>\n",
              "      <td>M</td>\n",
              "      <td>73.00</td>\n",
              "      <td>Central</td>\n",
              "      <td>79.00</td>\n",
              "      <td>Central</td>\n",
              "      <td>Commerce</td>\n",
              "      <td>72.00</td>\n",
              "      <td>Comm&amp;Mgmt</td>\n",
              "      <td>No</td>\n",
              "      <td>91.34</td>\n",
              "      <td>Mkt&amp;Fin</td>\n",
              "      <td>61.29</td>\n",
              "      <td>1.0</td>\n",
              "      <td>231000.0</td>\n",
              "      <td>71.3225</td>\n",
              "      <td>upper-mid</td>\n",
              "    </tr>\n",
              "  </tbody>\n",
              "</table>\n",
              "</div>\n",
              "      <button class=\"colab-df-convert\" onclick=\"convertToInteractive('df-2ea2e6ce-b59d-493d-b4b6-6b588b8a2f7d')\"\n",
              "              title=\"Convert this dataframe to an interactive table.\"\n",
              "              style=\"display:none;\">\n",
              "        \n",
              "  <svg xmlns=\"http://www.w3.org/2000/svg\" height=\"24px\"viewBox=\"0 0 24 24\"\n",
              "       width=\"24px\">\n",
              "    <path d=\"M0 0h24v24H0V0z\" fill=\"none\"/>\n",
              "    <path d=\"M18.56 5.44l.94 2.06.94-2.06 2.06-.94-2.06-.94-.94-2.06-.94 2.06-2.06.94zm-11 1L8.5 8.5l.94-2.06 2.06-.94-2.06-.94L8.5 2.5l-.94 2.06-2.06.94zm10 10l.94 2.06.94-2.06 2.06-.94-2.06-.94-.94-2.06-.94 2.06-2.06.94z\"/><path d=\"M17.41 7.96l-1.37-1.37c-.4-.4-.92-.59-1.43-.59-.52 0-1.04.2-1.43.59L10.3 9.45l-7.72 7.72c-.78.78-.78 2.05 0 2.83L4 21.41c.39.39.9.59 1.41.59.51 0 1.02-.2 1.41-.59l7.78-7.78 2.81-2.81c.8-.78.8-2.07 0-2.86zM5.41 20L4 18.59l7.72-7.72 1.47 1.35L5.41 20z\"/>\n",
              "  </svg>\n",
              "      </button>\n",
              "      \n",
              "  <style>\n",
              "    .colab-df-container {\n",
              "      display:flex;\n",
              "      flex-wrap:wrap;\n",
              "      gap: 12px;\n",
              "    }\n",
              "\n",
              "    .colab-df-convert {\n",
              "      background-color: #E8F0FE;\n",
              "      border: none;\n",
              "      border-radius: 50%;\n",
              "      cursor: pointer;\n",
              "      display: none;\n",
              "      fill: #1967D2;\n",
              "      height: 32px;\n",
              "      padding: 0 0 0 0;\n",
              "      width: 32px;\n",
              "    }\n",
              "\n",
              "    .colab-df-convert:hover {\n",
              "      background-color: #E2EBFA;\n",
              "      box-shadow: 0px 1px 2px rgba(60, 64, 67, 0.3), 0px 1px 3px 1px rgba(60, 64, 67, 0.15);\n",
              "      fill: #174EA6;\n",
              "    }\n",
              "\n",
              "    [theme=dark] .colab-df-convert {\n",
              "      background-color: #3B4455;\n",
              "      fill: #D2E3FC;\n",
              "    }\n",
              "\n",
              "    [theme=dark] .colab-df-convert:hover {\n",
              "      background-color: #434B5C;\n",
              "      box-shadow: 0px 1px 3px 1px rgba(0, 0, 0, 0.15);\n",
              "      filter: drop-shadow(0px 1px 2px rgba(0, 0, 0, 0.3));\n",
              "      fill: #FFFFFF;\n",
              "    }\n",
              "  </style>\n",
              "\n",
              "      <script>\n",
              "        const buttonEl =\n",
              "          document.querySelector('#df-2ea2e6ce-b59d-493d-b4b6-6b588b8a2f7d button.colab-df-convert');\n",
              "        buttonEl.style.display =\n",
              "          google.colab.kernel.accessAllowed ? 'block' : 'none';\n",
              "\n",
              "        async function convertToInteractive(key) {\n",
              "          const element = document.querySelector('#df-2ea2e6ce-b59d-493d-b4b6-6b588b8a2f7d');\n",
              "          const dataTable =\n",
              "            await google.colab.kernel.invokeFunction('convertToInteractive',\n",
              "                                                     [key], {});\n",
              "          if (!dataTable) return;\n",
              "\n",
              "          const docLinkHtml = 'Like what you see? Visit the ' +\n",
              "            '<a target=\"_blank\" href=https://colab.research.google.com/notebooks/data_table.ipynb>data table notebook</a>'\n",
              "            + ' to learn more about interactive tables.';\n",
              "          element.innerHTML = '';\n",
              "          dataTable['output_type'] = 'display_data';\n",
              "          await google.colab.output.renderOutput(dataTable, element);\n",
              "          const docLink = document.createElement('div');\n",
              "          docLink.innerHTML = docLinkHtml;\n",
              "          element.appendChild(docLink);\n",
              "        }\n",
              "      </script>\n",
              "    </div>\n",
              "  </div>\n",
              "  "
            ]
          },
          "metadata": {},
          "execution_count": 13
        }
      ]
    },
    {
      "cell_type": "markdown",
      "source": [
        "#### **2) Visualization and Hypothesization:**"
      ],
      "metadata": {
        "id": "h4os-YcjH95Y"
      }
    },
    {
      "cell_type": "markdown",
      "source": [
        "---\n",
        "**-**Using the placed Dataframe to create a correlation heatmap of the attributes employment test score, degree average, and salary:\n"
      ],
      "metadata": {
        "id": "1Mbe6YtG65VM"
      }
    },
    {
      "cell_type": "code",
      "source": [
        "corr = placed[['salary', 'degree_avg', 'etest_p']].corr()\n",
        "\n",
        "plt.figure(figsize = (10,6))\n",
        "plt.title('Correlation of Attributes')\n",
        "\n",
        "sns.heatmap(data = corr, vmin = 0.0, vmax = 1.0, annot = True,\n",
        "            xticklabels = ['Salary', 'Degree Average', 'Employment Test'],\n",
        "            yticklabels = ['Salary', 'Degree Average', 'Employment Test'])\n",
        "\n",
        "plt.xticks(rotation = 30)\n",
        "\n",
        "\n",
        "plt.savefig('heatmap.png', dpi=300)"
      ],
      "metadata": {
        "colab": {
          "base_uri": "https://localhost:8080/",
          "height": 431
        },
        "id": "J8cqE5GV62GZ",
        "outputId": "ce9ef726-5fa0-4133-e44d-b5ef9e45a02f"
      },
      "execution_count": null,
      "outputs": [
        {
          "output_type": "display_data",
          "data": {
            "text/plain": [
              "<Figure size 720x432 with 2 Axes>"
            ],
            "image/png": "[encoded data removed]"
          },
          "metadata": {
            "needs_background": "light"
          }
        }
      ]
    },
    {
      "cell_type": "markdown",
      "source": [
        "*It is clearly seen that the correlation of salary and employment test score is more than twice the correlation of salary and degree average. The takeaway here could be that employment test score is more important than degree average for determining their salary. (Keep in mind that this dataset only had placed rows, there was no empty values)*"
      ],
      "metadata": {
        "id": "omilgfyL99YQ"
      }
    },
    {
      "cell_type": "markdown",
      "source": [
        "---\n",
        "**-**Creating a grouped bar chart showing the relationship between the attributes gender, placement status and work experience:\n"
      ],
      "metadata": {
        "id": "eNZDpvUT8ME1"
      }
    },
    {
      "cell_type": "code",
      "source": [
        "plt.figure(figsize = (10,6))\n",
        "plt.title('Gender and Work Experience vs Job Placement')\n",
        "\n",
        "g = sns.barplot(data=df[['status', 'workex', 'gender']], x=\"workex\",\n",
        "                y=\"status\", hue=\"gender\", ci = 0)\n",
        "g.set(xlabel='Work Experience', ylabel= 'Job Placement Ratio')\n",
        "x=np.arange(2)\n",
        "plt.xticks(x,[\"No\", \"Yes\"])\n",
        "plt.show()"
      ],
      "metadata": {
        "colab": {
          "base_uri": "https://localhost:8080/",
          "height": 404
        },
        "id": "bPy4WsIp8MaB",
        "outputId": "a572ee08-41d5-4450-c6f5-ff6dff273d94"
      },
      "execution_count": null,
      "outputs": [
        {
          "output_type": "display_data",
          "data": {
            "text/plain": [
              "<Figure size 720x432 with 1 Axes>"
            ],
            "image/png": "[encoded data removed]"
          },
          "metadata": {
            "needs_background": "light"
          }
        }
      ]
    },
    {
      "cell_type": "markdown",
      "source": [
        "*This graph shows that people with work experience are far more likely to be placed in an occupational position than people with no work experience.* \n",
        "\n",
        "*It can also be clearly seen that Job Placement Ratio is higher for men than women, regardless of work experience.*"
      ],
      "metadata": {
        "id": "b90eEP2w-MYA"
      }
    },
    {
      "cell_type": "markdown",
      "source": [
        "---\n",
        "**-**Using the degree average column to show its relationship with salary:"
      ],
      "metadata": {
        "id": "2-HrKflFC0sz"
      }
    },
    {
      "cell_type": "code",
      "source": [
        "plt.figure(figsize = (10,6))\n",
        "plt.xticks(rotation=30)\n",
        "plt.title('')\n",
        "\n",
        "g = sns.barplot(data=placed[['salary', 'hsc_s', 'degree_avg_group']], x=\"hsc_s\",\n",
        "                y=\"salary\", hue=\"degree_avg_group\", ci = 0)"
      ],
      "metadata": {
        "id": "22Ijmny-C0MQ",
        "colab": {
          "base_uri": "https://localhost:8080/",
          "height": 415
        },
        "outputId": "2e861709-fe0f-4073-f468-165e83ecbc33"
      },
      "execution_count": null,
      "outputs": [
        {
          "output_type": "display_data",
          "data": {
            "text/plain": [
              "<Figure size 720x432 with 1 Axes>"
            ],
            "image/png": "[encoded data removed]"
          },
          "metadata": {
            "needs_background": "light"
          }
        }
      ]
    },
    {
      "cell_type": "markdown",
      "source": [
        "*Main takeaway from the above graph is that people who specialized in commerce and have high degree averages have significantly higher salaries compared to people with lower degree averages in same field, yet this is not the case for people who are specialized in science. Here, we see that degree averages is not as important and that lower-mid salaries are higher than high average salaries.*\n",
        "\n",
        "*An interesting point to notice is that people with lower-mid averages in high school seem to have higher salaries than people with upper-mid averages in all specialization fields.*\n",
        "\n",
        "*People with high averages in high school do not seem to choose Arts as their area of specialization.*\n",
        "\n",
        "*A very important takeaway would be that since this chart uses people who are placed as samples, the fact that people with low degree averages cannot be seen here at all indicates that there are no people with a low average grade that managed to get placed. While it is bold to assume that below a certain degree average, it is impossible get placed, it certainly is logical to claim that below a certain degree average it is highly unlikely to get placed, making this factor an important one for placement. This calls for further investigation.*"
      ],
      "metadata": {
        "id": "zHo-AlNvcxqe"
      }
    },
    {
      "cell_type": "markdown",
      "source": [
        "---\n",
        "**-**Creating pie charts of specialisation ratios:"
      ],
      "metadata": {
        "id": "jrByr0V1VIIU"
      }
    },
    {
      "cell_type": "code",
      "source": [
        "commerce_ratio = placed['hsc_s'].value_counts()[\"Commerce\"] / df['hsc_s'].value_counts()[\"Commerce\"]\n",
        "science_ratio = placed['hsc_s'].value_counts()[\"Science\"] / df['hsc_s'].value_counts()[\"Science\"]\n",
        "arts_ratio = placed['hsc_s'].value_counts()[\"Arts\"] / df['hsc_s'].value_counts()[\"Arts\"]\n",
        "\n",
        "hr_ratio = placed['specialisation'].value_counts()[\"Mkt&HR\"] / df['specialisation'].value_counts()[\"Mkt&HR\"]\n",
        "fin_ratio = placed['specialisation'].value_counts()[\"Mkt&Fin\"] / df['specialisation'].value_counts()[\"Mkt&Fin\"]\n",
        "\n",
        "\n",
        "x = np.array([commerce_ratio, science_ratio, arts_ratio])\n",
        "mylabels = [\"Commerce\", \"Science\", \"Arts\"]\n",
        "mycolors = [\"#CD5C5C\", \"#2E8B57\", \"#663399\"]\n",
        "\n",
        "ax1 = plt.pie(x, labels = mylabels, colors = mycolors, autopct='%1.1f%%')\n",
        "plt.title(\"Ratio of High School Specialisation:\")\n",
        "plt.show() \n",
        "\n",
        "print(\"\\n\")\n",
        "\n",
        "y = np.array([hr_ratio, fin_ratio])\n",
        "mylabels2 = [\"Marketing and HR\", \"Marketing and Finance\"]\n",
        "mycolors2 = [\"#008080\", \"#a52a2a\"]\n",
        "\n",
        "ax2 = plt.pie(y, labels = mylabels2, colors = mycolors2, autopct='%1.1f%%')\n",
        "plt.title(\"Ratio of Job Specialisation:\")\n",
        "plt.show() "
      ],
      "metadata": {
        "colab": {
          "base_uri": "https://localhost:8080/",
          "height": 546
        },
        "id": "3wD_4ux2VPqU",
        "outputId": "0d1a5193-4acc-43eb-f8b0-1b4ca2b1bb19"
      },
      "execution_count": null,
      "outputs": [
        {
          "output_type": "display_data",
          "data": {
            "text/plain": [
              "<Figure size 432x288 with 1 Axes>"
            ],
            "image/png": "[encoded data removed]"
          },
          "metadata": {}
        },
        {
          "output_type": "stream",
          "name": "stdout",
          "text": [
            "\n",
            "\n"
          ]
        },
        {
          "output_type": "display_data",
          "data": {
            "text/plain": [
              "<Figure size 432x288 with 1 Axes>"
            ],
            "image/png": "[encoded data removed]"
          },
          "metadata": {}
        }
      ]
    },
    {
      "cell_type": "markdown",
      "source": [
        "---\n",
        "*-*Scatter plot with regression line to show correlation between salary and employment test score:\n"
      ],
      "metadata": {
        "id": "BS0pSNfax_CL"
      }
    },
    {
      "cell_type": "code",
      "source": [
        "x = newdf['etest_p']\n",
        "y = newdf['salary']\n",
        "\n",
        "plt.plot(x, y, 'o')\n",
        "m, b = np.polyfit(x, y, 1)\n",
        "\n",
        "plt.plot(x, m*x+b)\n",
        "plt.show()"
      ],
      "metadata": {
        "id": "uQFNF55FnhD2",
        "colab": {
          "base_uri": "https://localhost:8080/",
          "height": 265
        },
        "outputId": "baefd09d-7a74-44ab-c874-d50e488a3a83"
      },
      "execution_count": null,
      "outputs": [
        {
          "output_type": "display_data",
          "data": {
            "text/plain": [
              "<Figure size 432x288 with 1 Axes>"
            ],
            "image/png": "[encoded data removed]"
          },
          "metadata": {
            "needs_background": "light"
          }
        }
      ]
    },
    {
      "cell_type": "markdown",
      "source": [
        "---\n",
        "*-*Scatterplot with regression line to show correlation between degree average and salary:\n"
      ],
      "metadata": {
        "id": "uh90Ydt2yM0X"
      }
    },
    {
      "cell_type": "code",
      "source": [
        "x = newdf['degree_avg']\n",
        "y = newdf['salary']\n",
        "\n",
        "plt.plot(x, y, 'o')\n",
        "m, b = np.polyfit(x, y, 1)\n",
        "\n",
        "plt.plot(x, m*x+b)\n",
        "plt.show()"
      ],
      "metadata": {
        "colab": {
          "base_uri": "https://localhost:8080/",
          "height": 265
        },
        "id": "URSR-5OjyMR_",
        "outputId": "bd9e041d-b646-4e17-e94e-100486474e5b"
      },
      "execution_count": null,
      "outputs": [
        {
          "output_type": "display_data",
          "data": {
            "text/plain": [
              "<Figure size 432x288 with 1 Axes>"
            ],
            "image/png": "[encoded data removed]"
          },
          "metadata": {
            "needs_background": "light"
          }
        }
      ]
    },
    {
      "cell_type": "markdown",
      "source": [
        "The scatterplots above demonstrate that there is none to minimal correlation between degree average and salary or employment test score and salary. It can be concluded that employment test score and degree average cannot be used to determine someone's salary."
      ],
      "metadata": {
        "id": "gjjb3Qu2ydBV"
      }
    },
    {
      "cell_type": "markdown",
      "metadata": {
        "id": "gWoY8F-v4ZU0"
      },
      "source": [
        "## Machine Learning Models\n",
        "\n"
      ]
    },
    {
      "cell_type": "markdown",
      "metadata": {
        "id": "67QXh8uI4c9V"
      },
      "source": [
        "### Implementation\n"
      ]
    },
    {
      "cell_type": "markdown",
      "source": [
        "-Splitting our data to target and rest:\n",
        "\n",
        "\n",
        "\n",
        "\n",
        "\n",
        "\n"
      ],
      "metadata": {
        "id": "G5-4rga_VRAg"
      }
    },
    {
      "cell_type": "code",
      "source": [
        "X = df_ws.drop(columns = ['status'])\n",
        "X.pop('sl_no')\n",
        "y = df_ws['status'].astype('int')"
      ],
      "metadata": {
        "id": "MApu1qQlQ6Zd"
      },
      "execution_count": null,
      "outputs": []
    },
    {
      "cell_type": "markdown",
      "source": [
        "\n",
        "\n",
        "---\n",
        "\n",
        "\n",
        "-Stratified splitting data to train, validation and test datasets:"
      ],
      "metadata": {
        "id": "vP12aI1jVHuK"
      }
    },
    {
      "cell_type": "code",
      "source": [
        "#80% train, 10% validation, 10% test\n",
        "X_train, X_test, y_train, y_test = train_test_split(X, y, stratify=y, test_size=0.20)\n",
        "X_test, X_val, y_test, y_val = train_test_split(X_test, y_test, test_size=0.50)\n"
      ],
      "metadata": {
        "id": "0iO39VVRMqof"
      },
      "execution_count": null,
      "outputs": []
    },
    {
      "cell_type": "markdown",
      "source": [
        "\n",
        "\n",
        "---\n",
        "\n",
        "\n",
        "-Standardizing our model:"
      ],
      "metadata": {
        "id": "ddLwGLw2pAQn"
      }
    },
    {
      "cell_type": "code",
      "source": [
        "sc = StandardScaler()\n",
        "sc.fit(X_train)\n",
        "X_train_std = sc.transform(X_train)\n",
        "X_test_std = sc.transform(X_test)"
      ],
      "metadata": {
        "id": "DUjt-i3QoDpH"
      },
      "execution_count": null,
      "outputs": []
    },
    {
      "cell_type": "markdown",
      "source": [
        "#### 1) Random Forest"
      ],
      "metadata": {
        "id": "Bxbs0zuLQqq8"
      }
    },
    {
      "cell_type": "markdown",
      "source": [
        "\n",
        "\n",
        "-Implementing our Random Forest model:"
      ],
      "metadata": {
        "id": "77EcdoXKVhxq"
      }
    },
    {
      "cell_type": "code",
      "source": [
        "rf_model = RandomForestClassifier(n_estimators=100)\n",
        "rf_model.fit(X_train, y_train)"
      ],
      "metadata": {
        "colab": {
          "base_uri": "https://localhost:8080/"
        },
        "id": "Q_IQo7YHM2o3",
        "outputId": "bb4f9f43-de82-421c-e615-3d3f9b8c98bd"
      },
      "execution_count": null,
      "outputs": [
        {
          "output_type": "execute_result",
          "data": {
            "text/plain": [
              "RandomForestClassifier()"
            ]
          },
          "metadata": {},
          "execution_count": 260
        }
      ]
    },
    {
      "cell_type": "markdown",
      "source": [
        "\n",
        "\n",
        "---\n",
        "\n",
        "\n",
        "-Testing accuracy of our model:"
      ],
      "metadata": {
        "id": "8Ev9txZlVmVD"
      }
    },
    {
      "cell_type": "code",
      "source": [
        "predictions = rf_model.predict(X_test)\n",
        "rf_predictions_val = rf_model.predict(X_val)\n",
        "rf_acc_val = accuracy_score(y_val, rf_predictions_val)\n",
        "rf_acc_test = accuracy_score(y_test, predictions)\n",
        "\n",
        "print(\"Random Forest Test Accuracy: \"+str(rf_acc_test))\n",
        "print(\"Random Forest Validation Accuracy: \"+str(rf_acc_val))\n",
        "print(\"Random Forest Train Accuracy: \"+str(accuracy_score(y_train, rf_model.predict(X_train))))"
      ],
      "metadata": {
        "colab": {
          "base_uri": "https://localhost:8080/"
        },
        "id": "K78UG6_7ZBuZ",
        "outputId": "035bddb9-1123-4198-9ae0-0df77dd07320"
      },
      "execution_count": null,
      "outputs": [
        {
          "output_type": "stream",
          "name": "stdout",
          "text": [
            "Random Forest Test Accuracy: 0.8095238095238095\n",
            "Random Forest Validation Accuracy: 0.7272727272727273\n",
            "Random Forest Train Accuracy: 1.0\n"
          ]
        }
      ]
    },
    {
      "cell_type": "markdown",
      "source": [
        "\n",
        "\n",
        "---\n",
        "\n",
        "\n",
        "-Testing different max depth parameter values to increase test accuracy:"
      ],
      "metadata": {
        "id": "5EInC39VVz8H"
      }
    },
    {
      "cell_type": "code",
      "source": [
        "max_depths = [2, 3, 5, 7, 9, 11]\n",
        "\n",
        "for max_depth in max_depths:\n",
        "  rf_model = RandomForestClassifier(n_estimators=100,max_depth=max_depth)\n",
        "  rf_model.fit(X_train, y_train)\n",
        "  \n",
        "  preds = rf_model.predict(X_test)\n",
        "  print(\"max_depth = \", max_depth, \", Accuracy: \", accuracy_score(y_test, preds))"
      ],
      "metadata": {
        "colab": {
          "base_uri": "https://localhost:8080/"
        },
        "id": "hR1e3s5scP8Z",
        "outputId": "50eb8f97-cb3a-4f3b-b03b-ff2308f37b47"
      },
      "execution_count": null,
      "outputs": [
        {
          "output_type": "stream",
          "name": "stdout",
          "text": [
            "max_depth =  2 , Accuracy:  0.7619047619047619\n",
            "max_depth =  3 , Accuracy:  0.7619047619047619\n",
            "max_depth =  5 , Accuracy:  0.7619047619047619\n",
            "max_depth =  7 , Accuracy:  0.7619047619047619\n",
            "max_depth =  9 , Accuracy:  0.8095238095238095\n",
            "max_depth =  11 , Accuracy:  0.7619047619047619\n"
          ]
        }
      ]
    },
    {
      "cell_type": "markdown",
      "source": [
        "\n",
        "\n",
        "---\n",
        "\n",
        "\n",
        "-Testing different n_estimators to increase test accuracy:"
      ],
      "metadata": {
        "id": "nzrQ1VRM-GVN"
      }
    },
    {
      "cell_type": "code",
      "source": [
        "n_estimators = [50,100,300,500]\n",
        "\n",
        "for n_estimator in n_estimators:\n",
        "  rf_model = RandomForestClassifier(n_estimators=n_estimator,max_depth=9)\n",
        "  rf_model.fit(X_train, y_train)\n",
        "  \n",
        "  preds = rf_model.predict(X_test)\n",
        "  print(\"n_estimator = \", n_estimator, \", Accuracy: \", accuracy_score(y_test, preds))"
      ],
      "metadata": {
        "colab": {
          "base_uri": "https://localhost:8080/"
        },
        "id": "5VmfqmsE-KGe",
        "outputId": "9d503230-d936-4793-8c8e-eb329a05fbdc"
      },
      "execution_count": null,
      "outputs": [
        {
          "output_type": "stream",
          "name": "stdout",
          "text": [
            "n_estimator =  50 , Accuracy:  0.8571428571428571\n",
            "n_estimator =  100 , Accuracy:  0.8095238095238095\n",
            "n_estimator =  300 , Accuracy:  0.7619047619047619\n",
            "n_estimator =  500 , Accuracy:  0.7619047619047619\n"
          ]
        }
      ]
    },
    {
      "cell_type": "markdown",
      "source": [
        "\n",
        "\n",
        "---\n",
        "\n",
        "\n",
        "-Implementing our Random Forest model again with improved performance (max_depth = 9, n_estimators = 50):"
      ],
      "metadata": {
        "id": "ZqGZXiGgV6X5"
      }
    },
    {
      "cell_type": "code",
      "source": [
        "rf_model = RandomForestClassifier(n_estimators=50, max_depth = 9)\n",
        "rf_model.fit(X_train, y_train)\n",
        "\n",
        "preds = rf_model.predict(X_test)\n",
        "print(\"Accuracy: \", accuracy_score(y_test, preds))"
      ],
      "metadata": {
        "colab": {
          "base_uri": "https://localhost:8080/"
        },
        "id": "dYUCZDPFdFBR",
        "outputId": "ae2d2b7d-1036-432f-e057-55c6e8039b22"
      },
      "execution_count": null,
      "outputs": [
        {
          "output_type": "stream",
          "name": "stdout",
          "text": [
            "Accuracy:  0.9047619047619048\n"
          ]
        }
      ]
    },
    {
      "cell_type": "markdown",
      "source": [
        "\n",
        "\n",
        "---\n",
        "\n",
        "\n",
        "-Saving our model as joblib file:"
      ],
      "metadata": {
        "id": "hZFvr4MvWD5_"
      }
    },
    {
      "cell_type": "code",
      "source": [
        "joblib.dump(rf_model, 'rf_model.joblib')"
      ],
      "metadata": {
        "colab": {
          "base_uri": "https://localhost:8080/"
        },
        "id": "8dACIY_QbRnD",
        "outputId": "46b65693-5a4e-4ea5-be51-59089c2dd889"
      },
      "execution_count": null,
      "outputs": [
        {
          "output_type": "execute_result",
          "data": {
            "text/plain": [
              "['rf_model.joblib']"
            ]
          },
          "metadata": {},
          "execution_count": 292
        }
      ]
    },
    {
      "cell_type": "markdown",
      "source": [
        "\n",
        "\n",
        "---\n",
        "\n",
        "\n",
        "-Visualization of a randomly selected Decision Tree from our Random Forest model:"
      ],
      "metadata": {
        "id": "LhuoUGoUWhGA"
      }
    },
    {
      "cell_type": "code",
      "source": [
        "fig = plt.figure(figsize=(30, 30)) \n",
        "tree = rf_model.estimators_[2] #select a random tree\n",
        "plot_tree(tree, feature_names=X.columns.values, class_names=[\"Not placed\", \"Placed\"], filled=True); #use plot_tree method"
      ],
      "metadata": {
        "colab": {
          "base_uri": "https://localhost:8080/",
          "height": 1000
        },
        "id": "3Ff-FaRilF3q",
        "outputId": "0dbdd41a-100d-4fb8-fd39-8f6a925a4dde"
      },
      "execution_count": null,
      "outputs": [
        {
          "output_type": "display_data",
          "data": {
            "text/plain": [
              "<Figure size 2160x2160 with 1 Axes>"
            ],
            "image/png": "[encoded data removed]"
          },
          "metadata": {
            "needs_background": "light"
          }
        }
      ]
    },
    {
      "cell_type": "markdown",
      "source": [
        "#### 2) KNN"
      ],
      "metadata": {
        "id": "yUJlGZUUBr5b"
      }
    },
    {
      "cell_type": "markdown",
      "source": [
        "-Implementing our KNN model:"
      ],
      "metadata": {
        "id": "bxtrKx5GCKT0"
      }
    },
    {
      "cell_type": "code",
      "source": [
        "k=3\n",
        "knn_model = KNeighborsClassifier(k, metric='euclidean')\n",
        "knn_model.fit(X_train, y_train)"
      ],
      "metadata": {
        "colab": {
          "base_uri": "https://localhost:8080/"
        },
        "id": "fx601RpfW-dj",
        "outputId": "6f68cdc0-e12e-4f68-d87c-fd3f701941b6"
      },
      "execution_count": null,
      "outputs": [
        {
          "output_type": "execute_result",
          "data": {
            "text/plain": [
              "KNeighborsClassifier(metric='euclidean', n_neighbors=3)"
            ]
          },
          "metadata": {},
          "execution_count": 315
        }
      ]
    },
    {
      "cell_type": "markdown",
      "source": [
        "\n",
        "\n",
        "---\n",
        "\n",
        "\n",
        "-Testing accuracy of our model:"
      ],
      "metadata": {
        "id": "uXfZukXxc5xS"
      }
    },
    {
      "cell_type": "code",
      "source": [
        "knn_predictions = knn_model.predict(X_test)\n",
        "knn_predictions_val = knn_model.predict(X_val)\n",
        "knn_acc_val = accuracy_score(y_val, knn_predictions_val)\n",
        "knn_acc_test = accuracy_score(y_test, knn_predictions)\n",
        "\n",
        "print(\"KNN Test Accuracy: \"+str(knn_acc_test)) #could also just use .score()\n",
        "print(\"KNN Validation Accuracy: \"+str(knn_acc_val))\n",
        "print(\"KNN Train Accuracy: \"+str(accuracy_score(y_train, knn_model.predict(X_train))))"
      ],
      "metadata": {
        "colab": {
          "base_uri": "https://localhost:8080/"
        },
        "id": "f_jnBt1UaF5s",
        "outputId": "b34e539a-25b7-46a0-9aac-2cf529029409"
      },
      "execution_count": null,
      "outputs": [
        {
          "output_type": "stream",
          "name": "stdout",
          "text": [
            "KNN Test Accuracy: 0.7619047619047619\n",
            "KNN Validation Accuracy: 0.7727272727272727\n",
            "KNN Train Accuracy: 0.8662790697674418\n"
          ]
        }
      ]
    },
    {
      "cell_type": "markdown",
      "source": [
        "\n",
        "\n",
        "---\n",
        "\n",
        "\n",
        "-For hyperparameter tuning, try different n_neighbors from 1 to 21:"
      ],
      "metadata": {
        "id": "NmJcki7Gacdq"
      }
    },
    {
      "cell_type": "code",
      "source": [
        "for n_neighbor in range(1,22):\n",
        "  knn_model = KNeighborsClassifier(n_neighbors = n_neighbor)\n",
        "  knn_model.fit(X_train, y_train)\n",
        "  \n",
        "  knn_preds = knn_model.predict(X_test)\n",
        "  print(\"k = \", n_neighbor, \", Accuracy: \", accuracy_score(y_test, knn_preds))"
      ],
      "metadata": {
        "colab": {
          "base_uri": "https://localhost:8080/"
        },
        "id": "A5dj8_LSaraD",
        "outputId": "0c066ae3-7dcd-4a90-ccb8-154e0ba7b942"
      },
      "execution_count": null,
      "outputs": [
        {
          "output_type": "stream",
          "name": "stdout",
          "text": [
            "k =  1 , Accuracy:  0.7619047619047619\n",
            "k =  2 , Accuracy:  0.7619047619047619\n",
            "k =  3 , Accuracy:  0.7619047619047619\n",
            "k =  4 , Accuracy:  0.7142857142857143\n",
            "k =  5 , Accuracy:  0.7619047619047619\n",
            "k =  6 , Accuracy:  0.7619047619047619\n",
            "k =  7 , Accuracy:  0.7619047619047619\n",
            "k =  8 , Accuracy:  0.7619047619047619\n",
            "k =  9 , Accuracy:  0.7619047619047619\n",
            "k =  10 , Accuracy:  0.7619047619047619\n",
            "k =  11 , Accuracy:  0.7619047619047619\n",
            "k =  12 , Accuracy:  0.7619047619047619\n",
            "k =  13 , Accuracy:  0.7619047619047619\n",
            "k =  14 , Accuracy:  0.7619047619047619\n",
            "k =  15 , Accuracy:  0.7619047619047619\n",
            "k =  16 , Accuracy:  0.7619047619047619\n",
            "k =  17 , Accuracy:  0.7619047619047619\n",
            "k =  18 , Accuracy:  0.7619047619047619\n",
            "k =  19 , Accuracy:  0.7619047619047619\n",
            "k =  20 , Accuracy:  0.7619047619047619\n",
            "k =  21 , Accuracy:  0.7619047619047619\n"
          ]
        }
      ]
    },
    {
      "cell_type": "markdown",
      "source": [
        "There is no improvement in performance in any of these cases. We will continue with k=3 for our model"
      ],
      "metadata": {
        "id": "GU3ejmfCbJzz"
      }
    },
    {
      "cell_type": "markdown",
      "source": [
        "\n",
        "\n",
        "---\n",
        "\n",
        "\n",
        "-Use of different metrics may also have impact on accuracy:"
      ],
      "metadata": {
        "id": "jaF67mO-byJp"
      }
    },
    {
      "cell_type": "code",
      "source": [
        "for met in ['euclidean', 'manhattan', 'minkowski']:\n",
        "  knn_model = KNeighborsClassifier(n_neighbors = 3, metric=met)\n",
        "  knn_model.fit(X_train, y_train)\n",
        "  \n",
        "  preds = knn_model.predict(X_test)\n",
        "  print(\"k = 1 , metric: \", met , \"Accuracy: \", accuracy_score(y_test, preds))"
      ],
      "metadata": {
        "colab": {
          "base_uri": "https://localhost:8080/"
        },
        "id": "oh-e_zuBb74l",
        "outputId": "a4098eeb-b4a9-4a12-d38e-ad4103fd117f"
      },
      "execution_count": null,
      "outputs": [
        {
          "output_type": "stream",
          "name": "stdout",
          "text": [
            "k = 1 , metric:  euclidean Accuracy:  0.7619047619047619\n",
            "k = 1 , metric:  manhattan Accuracy:  0.7142857142857143\n",
            "k = 1 , metric:  minkowski Accuracy:  0.7619047619047619\n"
          ]
        }
      ]
    },
    {
      "cell_type": "markdown",
      "source": [
        "*There is no improvement in performance in any of these cases. We will continue with euclidean metric for our model*"
      ],
      "metadata": {
        "id": "bhtX9TDvcl5D"
      }
    },
    {
      "cell_type": "markdown",
      "source": [
        "\n",
        "\n",
        "---\n",
        "\n",
        "\n",
        "-Saving our model as joblib file:"
      ],
      "metadata": {
        "id": "qwBeYJURSedL"
      }
    },
    {
      "cell_type": "code",
      "source": [
        "joblib.dump(knn_model, 'lr_model.joblib')"
      ],
      "metadata": {
        "colab": {
          "base_uri": "https://localhost:8080/"
        },
        "outputId": "3bdc6f6e-9907-496a-c6bb-37c8a644d228",
        "id": "XiCCpyLrSedL"
      },
      "execution_count": null,
      "outputs": [
        {
          "output_type": "execute_result",
          "data": {
            "text/plain": [
              "['lr_model.joblib']"
            ]
          },
          "metadata": {},
          "execution_count": 328
        }
      ]
    },
    {
      "cell_type": "markdown",
      "metadata": {
        "id": "l4MtFOqW4jdQ"
      },
      "source": [
        "### Results & Discussion\n",
        "\n"
      ]
    },
    {
      "cell_type": "markdown",
      "source": [
        "#### 1) Comparison Between Models"
      ],
      "metadata": {
        "id": "x_UMiBeMtQwl"
      }
    },
    {
      "cell_type": "markdown",
      "source": [
        "Random Forest model is more advantegous, as it is more accurate and easier to use/visualize.\n",
        "This statement can be better understood from following sections:"
      ],
      "metadata": {
        "id": "qFRZN8_uAZzQ"
      }
    },
    {
      "cell_type": "markdown",
      "source": [
        "##### 1) With ROC and AUC"
      ],
      "metadata": {
        "id": "_6kSgQle-r74"
      }
    },
    {
      "cell_type": "markdown",
      "source": [
        "-Calculate auc scores based on test data of each model:"
      ],
      "metadata": {
        "id": "2Sh8a4okxjpt"
      }
    },
    {
      "cell_type": "code",
      "source": [
        "pred_prob_rf = rf_model.predict_proba(X_test)\n",
        "fpr_rf, tpr_rf, thresh_rf = roc_curve(y_test, pred_prob_rf[:,1], pos_label=1)\n",
        "\n",
        "pred_prob_knn = knn_model.predict_proba(X_test)\n",
        "fpr_knn, tpr_knn, thresh_knn = roc_curve(y_test, pred_prob_knn[:,1], pos_label=1)\n",
        "\n",
        "random_probs = [0 for i in range(len(y_test))]\n",
        "p_fpr, p_tpr, _ = roc_curve(y_test, random_probs, pos_label=1)\n",
        "\n",
        "auc_score_rf = roc_auc_score(y_test, pred_prob_rf[:,1])\n",
        "auc_score_knn = roc_auc_score(y_test, pred_prob_knn[:,1])\n",
        "\n",
        "print(\"AUC score of Random Forest:\", auc_score_rf)\n",
        "print(\"AUC score of KNN:\", auc_score_knn)"
      ],
      "metadata": {
        "colab": {
          "base_uri": "https://localhost:8080/"
        },
        "id": "bND7AF6Xwpzr",
        "outputId": "80928d57-4349-41ce-866f-6c97bc652101"
      },
      "execution_count": null,
      "outputs": [
        {
          "output_type": "stream",
          "name": "stdout",
          "text": [
            "AUC score of Random Forest: 0.8875000000000001\n",
            "AUC score of KNN: 0.70625\n"
          ]
        }
      ]
    },
    {
      "cell_type": "markdown",
      "source": [
        "\n",
        "\n",
        "---\n",
        "\n",
        "\n",
        "-Draw ROC based on test data of each model:"
      ],
      "metadata": {
        "id": "-I5yyQt_x6ME"
      }
    },
    {
      "cell_type": "code",
      "source": [
        "plt.plot(fpr_rf, tpr_rf, color='blue', label=str(\"Random Forest (AUC = \" + str(auc_score_rf) + \")\"))\n",
        "plt.plot(p_fpr, p_tpr, linestyle='--', color='red')\n",
        "plt.plot(fpr_knn, tpr_knn, color='green', label=str(\"KNN (AUC = \" + str(auc_score_knn) + \")\"))\n",
        "plt.title('ROC')\n",
        "plt.xlabel('FPR')\n",
        "plt.ylabel('TPR')\n",
        "plt.xlim(0,1)\n",
        "plt.ylim(0,1)\n",
        "plt.legend(loc='best')\n",
        "plt.show()"
      ],
      "metadata": {
        "colab": {
          "base_uri": "https://localhost:8080/",
          "height": 295
        },
        "id": "nQ4CdQ7VyAWE",
        "outputId": "d5961990-91e1-42a2-fb6d-68a9d0df366f"
      },
      "execution_count": null,
      "outputs": [
        {
          "output_type": "display_data",
          "data": {
            "text/plain": [
              "<Figure size 432x288 with 1 Axes>"
            ],
            "image/png": "[encoded data removed]"
          },
          "metadata": {
            "needs_background": "light"
          }
        }
      ]
    },
    {
      "cell_type": "markdown",
      "source": [
        "***CONCLUSION***\n",
        "\n",
        "*It can be easily seen that the area under ROC (which is AUC)  of Random Forest model is larger than that of KNN model, which implies that Random Forest model is better suited for processing our data in this project.*"
      ],
      "metadata": {
        "id": "jSmIIslgARSR"
      }
    },
    {
      "cell_type": "markdown",
      "source": [
        "##### 2) With Confusion Matrices"
      ],
      "metadata": {
        "id": "j_M4rGVB-0Xw"
      }
    },
    {
      "cell_type": "code",
      "source": [
        "preds = rf_model.predict(X_test)\n",
        "cm = confusion_matrix(y_test, preds, labels = [0,1])\n",
        "sns.heatmap(cm, cmap = \"Blues\", annot = True)\n",
        "plt.title('Random Forest Model')\n",
        "plt.xlabel(\"Predicted label\")\n",
        "plt.ylabel(\"The label\")\n",
        "plt.show()\n",
        "\n",
        "preds = knn_model.predict(X_test)\n",
        "cm = confusion_matrix(y_test, preds, labels = [0,1])\n",
        "sns.heatmap(cm, cmap = \"Reds\", annot = True)\n",
        "plt.title('KNN model')\n",
        "plt.xlabel(\"Predicted label\")\n",
        "plt.ylabel(\"The label\")\n",
        "plt.show()"
      ],
      "metadata": {
        "colab": {
          "base_uri": "https://localhost:8080/",
          "height": 573
        },
        "id": "g9Z0oVZm-fAZ",
        "outputId": "391ab752-78b2-4dc0-ab48-c2d1ad8f1df9"
      },
      "execution_count": null,
      "outputs": [
        {
          "output_type": "display_data",
          "data": {
            "text/plain": [
              "<Figure size 432x288 with 2 Axes>"
            ],
            "image/png": "[encoded data removed]"
          },
          "metadata": {
            "needs_background": "light"
          }
        },
        {
          "output_type": "display_data",
          "data": {
            "text/plain": [
              "<Figure size 432x288 with 2 Axes>"
            ],
            "image/png": "[encoded data removed]"
          },
          "metadata": {
            "needs_background": "light"
          }
        }
      ]
    },
    {
      "cell_type": "markdown",
      "source": [
        "**CONCLUSION**\n",
        "\n",
        "*For Random Forest, 15 students were correcly predicted as placed, and 4 were correctly predicted as not placed, while 1 student that wasn't placed was predicted as placed, and 1 student that was placed was predicted as not placed. 19/21 success rate gives us 90%, which was the value we calculated as our model's accuracy in the first place.*\n",
        "\n",
        "*For KNN, 15 students were correcly predicted as placed, and 1 were correctly predicted as not placed, while 1 student that wasn't placed was predicted as placed, and 4 student that was placed was predicted as not placed. 16/21 success rate gives us 76%, which was the value we calculated as our model's accuracy in the first place.*\n",
        "\n",
        "*In conclusion, KNN model is more confused than Random Forest model, as can be seen from confusin matrices, making it disadvantegous.*"
      ],
      "metadata": {
        "id": "6A_zPyNT_Q7x"
      }
    },
    {
      "cell_type": "markdown",
      "source": [
        "#### 2) Importance of Features"
      ],
      "metadata": {
        "id": "wWXKD8gD3pzS"
      }
    },
    {
      "cell_type": "markdown",
      "source": [
        "\n",
        "\n",
        "-Deducting importances of features/variables:"
      ],
      "metadata": {
        "id": "_9ZVc7GJWIuY"
      }
    },
    {
      "cell_type": "code",
      "source": [
        "fl = list(range(df_ws.shape[1]))\n",
        "\n",
        "importances = list(rf_model.feature_importances_)\n",
        "\n",
        "feature_importance = [(feature, round(importance, 2)) for feature, importance in zip(fl, importances)]\n",
        "\n",
        "feature_importances = sorted(feature_importance, key = lambda x: x[1], reverse = True)\n",
        "\n",
        "for pair in feature_importances[:]:\n",
        "  print(\"Variable: {:2}   Importance: {}\".format(*pair))\n"
      ],
      "metadata": {
        "colab": {
          "base_uri": "https://localhost:8080/"
        },
        "id": "h7QE41NCcHLB",
        "outputId": "4616f34e-590f-4798-d3df-d3589c5aeadb"
      },
      "execution_count": null,
      "outputs": [
        {
          "output_type": "stream",
          "name": "stdout",
          "text": [
            "Variable:  0   Importance: 0.2\n",
            "Variable: 21   Importance: 0.17\n",
            "Variable:  1   Importance: 0.16\n",
            "Variable:  2   Importance: 0.12\n",
            "Variable:  4   Importance: 0.11\n",
            "Variable:  3   Importance: 0.04\n",
            "Variable: 25   Importance: 0.03\n",
            "Variable: 18   Importance: 0.02\n",
            "Variable: 23   Importance: 0.02\n",
            "Variable: 24   Importance: 0.02\n",
            "Variable:  5   Importance: 0.01\n",
            "Variable:  6   Importance: 0.01\n",
            "Variable:  7   Importance: 0.01\n",
            "Variable:  9   Importance: 0.01\n",
            "Variable: 12   Importance: 0.01\n",
            "Variable: 13   Importance: 0.01\n",
            "Variable: 14   Importance: 0.01\n",
            "Variable: 16   Importance: 0.01\n",
            "Variable: 17   Importance: 0.01\n",
            "Variable: 20   Importance: 0.01\n",
            "Variable:  8   Importance: 0.0\n",
            "Variable: 10   Importance: 0.0\n",
            "Variable: 11   Importance: 0.0\n",
            "Variable: 15   Importance: 0.0\n",
            "Variable: 19   Importance: 0.0\n",
            "Variable: 22   Importance: 0.0\n"
          ]
        }
      ]
    },
    {
      "cell_type": "markdown",
      "source": [
        "\n",
        "\n",
        "---\n",
        "\n",
        "\n",
        "-Writing variables and their corresponding importances:"
      ],
      "metadata": {
        "id": "yP0kHOJSWPMH"
      }
    },
    {
      "cell_type": "code",
      "source": [
        "for i in range(len(X.columns) - 1):\n",
        "  print(\"Feature:\", X.iloc[:,feature_importances[i][0]].name, \"------- Importance:\", feature_importances[i][1])"
      ],
      "metadata": {
        "colab": {
          "base_uri": "https://localhost:8080/"
        },
        "id": "FCdwa8dRiiz7",
        "outputId": "a1c79678-9d71-429b-fbd0-c9b0c9117374"
      },
      "execution_count": null,
      "outputs": [
        {
          "output_type": "stream",
          "name": "stdout",
          "text": [
            "Feature: ssc_p ------- Importance: 0.2\n",
            "Feature: degree_avg ------- Importance: 0.17\n",
            "Feature: hsc_p ------- Importance: 0.16\n",
            "Feature: degree_p ------- Importance: 0.12\n",
            "Feature: mba_p ------- Importance: 0.11\n",
            "Feature: etest_p ------- Importance: 0.04\n",
            "Feature: status_upper-mid ------- Importance: 0.03\n",
            "Feature: workex_Yes ------- Importance: 0.02\n",
            "Feature: status_low ------- Importance: 0.02\n",
            "Feature: status_lower-mid ------- Importance: 0.02\n",
            "Feature: gender_F ------- Importance: 0.01\n",
            "Feature: gender_M ------- Importance: 0.01\n",
            "Feature: ssc_b_Central ------- Importance: 0.01\n",
            "Feature: hsc_b_Central ------- Importance: 0.01\n",
            "Feature: hsc_s_Commerce ------- Importance: 0.01\n",
            "Feature: hsc_s_Science ------- Importance: 0.01\n",
            "Feature: degree_t_Comm&Mgmt ------- Importance: 0.01\n",
            "Feature: degree_t_Sci&Tech ------- Importance: 0.01\n",
            "Feature: workex_No ------- Importance: 0.01\n",
            "Feature: specialisation_Mkt&HR ------- Importance: 0.01\n",
            "Feature: ssc_b_Others ------- Importance: 0.0\n",
            "Feature: hsc_b_Others ------- Importance: 0.0\n",
            "Feature: hsc_s_Arts ------- Importance: 0.0\n",
            "Feature: degree_t_Others ------- Importance: 0.0\n",
            "Feature: specialisation_Mkt&Fin ------- Importance: 0.0\n"
          ]
        }
      ]
    },
    {
      "cell_type": "markdown",
      "source": [
        "\n",
        "\n",
        "---\n",
        "\n",
        "\n",
        "-A better visualization of importances of variables:"
      ],
      "metadata": {
        "id": "95quFp1EWbKy"
      }
    },
    {
      "cell_type": "code",
      "source": [
        "fig, ax = plt.subplots(figsize=(20, 8))\n",
        "\n",
        "index=np.argsort(importances)\n",
        "arr_sorted=[]\n",
        "\n",
        "for i in index:\n",
        "  arr_sorted.append(importances[i])\n",
        "x=np.arange(0,len(importances))\n",
        "\n",
        "ax.set_xticks(x)\n",
        "ax.set_xticklabels(index)\n",
        "ax.bar(x,arr_sorted)\n",
        "\n",
        "plt.xlabel(\"Features\")\n",
        "plt.ylabel(\"Importances\")\n",
        "plt.title(\"Feature Importances\")\n",
        "plt.show()"
      ],
      "metadata": {
        "colab": {
          "base_uri": "https://localhost:8080/",
          "height": 513
        },
        "id": "g3xXSxmjhA_7",
        "outputId": "622eb21c-9a50-4af0-a47b-acbb84d87f60"
      },
      "execution_count": null,
      "outputs": [
        {
          "output_type": "display_data",
          "data": {
            "text/plain": [
              "<Figure size 1440x576 with 1 Axes>"
            ],
            "image/png": "[encoded data removed]"
          },
          "metadata": {
            "needs_background": "light"
          }
        }
      ]
    },
    {
      "cell_type": "markdown",
      "source": [
        "\n",
        "\n",
        "---\n",
        "\n",
        "\n",
        "***CONCLUSION***\n",
        "\n",
        "*Through analysis and visualization, we see that,*\n",
        "\n",
        "\n",
        "\n",
        "> *The most important feature: Secondary school percantage*\n",
        "\n",
        "\n",
        "\n",
        "> *Useless feature(s): Specialization in Marketing and Finance, Board  of* *education type for schools at any level, Undergrad degree in any other type* *than Comm&Mgmt and Sci&Tech, High School specialization in Arts*\n",
        "\n",
        "\n",
        "*Remarks:*\n",
        "\n",
        "\n",
        "> *1) The 5 most important features for placement of students are all related to* *their grades(degree percentages). The education level at which grades have the most impact is Secondary School.*\n",
        "\n",
        "\n",
        "\n",
        "> *2) Total grade average of a student spanning from first level of education to last plays a significant role in his/her placement, as it is second in the feature importance order.*\n",
        "\n",
        "\n",
        "> *3) Features other than the ones related with grades have little impact on placement, and should be compared within themselves.\n",
        "\n",
        "\n",
        "> *4) The area of specialization with most impact on placement is Comm&Mgmt,* *meaning it is the most demander area of specialization by firms. Note that the* *difference is not that significant, but it is there.*\n",
        "\n",
        "\n",
        "\n",
        "> *5) Gender, as a feature plays little role in placement.*\n",
        "\n",
        "\n",
        "\n",
        "> *6) Employibility test and work experience are the most important features for placement after education grades*\n",
        "\n",
        "\n",
        "\n",
        "\n",
        "\n",
        "\n",
        "\n",
        "\n",
        "\n"
      ],
      "metadata": {
        "id": "MK9X3coy4YcU"
      }
    },
    {
      "cell_type": "markdown",
      "source": [
        "\n",
        "\n",
        "\n",
        "As an experiment, plot placement-most important feature found from random forest using scatter plot:"
      ],
      "metadata": {
        "id": "r8Ins7MYFIGC"
      }
    },
    {
      "cell_type": "code",
      "source": [
        "x = df_ws['ssc_p']\n",
        "y = df_ws['status']\n",
        "plt.scatter(x, y)\n",
        "plt.show()"
      ],
      "metadata": {
        "colab": {
          "base_uri": "https://localhost:8080/",
          "height": 265
        },
        "id": "TXYNl0cXE0Qr",
        "outputId": "24259424-5f28-4b84-9241-a82fff9f8ae6"
      },
      "execution_count": null,
      "outputs": [
        {
          "output_type": "display_data",
          "data": {
            "text/plain": [
              "<Figure size 432x288 with 1 Axes>"
            ],
            "image/png": "[encoded data removed]"
          },
          "metadata": {
            "needs_background": "light"
          }
        }
      ]
    },
    {
      "cell_type": "markdown",
      "source": [
        "*See how a person with higher secondary school degree is more likely to get placed and a person with low secondary school degree is more likely to be not placed.*"
      ],
      "metadata": {
        "id": "7rMRgVk8NdoS"
      }
    },
    {
      "cell_type": "markdown",
      "metadata": {
        "id": "L8mRHzGc4SH0"
      },
      "source": [
        "## Conclusion\n",
        "\n",
        "Questions asked at the beginning were:\n",
        "\n",
        "\n",
        "\n",
        "> 1) Which factor influenced a candidate in getting placed?\n",
        "\n",
        "\n",
        "> 2) Does percentage matters for one to get placed?\n",
        "\n",
        "> 3) Which degree specialization is much demanded by corporate?\n",
        "\n",
        "> 4) How do different features in the database correlate with each other?\n",
        "\n",
        "Our project successfully answers all the questions:\n",
        "\n",
        "\n",
        "\n",
        "\n",
        "> 1) We were able to seperate useless features from impactful ones through our ML model's ability to give us a feature importance ordered list.\n",
        "\n",
        "> 2) We were able to not only see that it matters but also that it matters **the most**.\n",
        "\n",
        "> 3) Thanks to ML, we deducted that the degree specialization demanded by firms the most is Comm&Mgmt.\n",
        "\n",
        "> 4) Answer to this question was given in Data Exploration section, where many relationships were examined by hand using visualization and summary statistics techniques and conclusions were made. One area of examination was how change in gender causes changes in placement rates.\n",
        "\n",
        "\n",
        "\n",
        "\n",
        "\n",
        "\n",
        "\n",
        "\n",
        "\n",
        "\n",
        "\n",
        "\n"
      ]
    },
    {
      "cell_type": "markdown",
      "metadata": {
        "id": "8h0G5RNzuABB"
      },
      "source": [
        "## Future Work\n",
        "\n",
        "This project can be expanded upon in the future, as salary future of placed students were mostly left alone (even though this too was examined to some extent in Data Exploration section) because our main goal was to determine features affecting placement.\n",
        "\n",
        "With Implementation of Linear Regression Machine Learning model, the ability to predict a placed student's salary could also be added to the project."
      ]
    },
    {
      "cell_type": "markdown",
      "metadata": {
        "id": "aw-zON5bt0pd"
      },
      "source": [
        "## Work Division\n",
        "\n",
        "Barış - Hypothesization, Data clearing, Visualization, Implementation of Random Forest model \n",
        "\n",
        "Ada - Visualization and Data clearing operations  \n",
        "\n",
        "Büşra - Data clearing and implementation of KNN\n",
        "\n",
        "Sena - Visualization and Data clearing operations, Machine Learning model comparisons\n",
        "\n",
        "Ece - Hypothesization and Data clearing, Machine Learning model comparisons"
      ]
    }
  ]
}